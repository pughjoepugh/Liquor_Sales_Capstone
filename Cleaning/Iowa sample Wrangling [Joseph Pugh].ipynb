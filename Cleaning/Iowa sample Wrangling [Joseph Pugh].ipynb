{
 "cells": [
  {
   "cell_type": "code",
   "execution_count": 1,
   "id": "1bda9be4",
   "metadata": {},
   "outputs": [],
   "source": [
    "# load packages\n",
    "\n",
    "import pandas as pd\n",
    "import numpy as np"
   ]
  },
  {
   "cell_type": "code",
   "execution_count": 2,
   "id": "dc667716",
   "metadata": {},
   "outputs": [],
   "source": [
    "# CSV file is from \"https://data.iowa.gov/Sales-Distribution/Iowa-Liquor-Sales/m3tr-qhgy\"\n",
    "\n",
    "# create variable to store dataset\n",
    "\n",
    "#### sample of full dataset for github\n",
    "iowaLiquorSales = pd.read_csv('iowa_sample.csv')"
   ]
  },
  {
   "cell_type": "code",
   "execution_count": 3,
   "id": "34e441d4",
   "metadata": {},
   "outputs": [
    {
     "data": {
      "text/html": [
       "<div>\n",
       "<style scoped>\n",
       "    .dataframe tbody tr th:only-of-type {\n",
       "        vertical-align: middle;\n",
       "    }\n",
       "\n",
       "    .dataframe tbody tr th {\n",
       "        vertical-align: top;\n",
       "    }\n",
       "\n",
       "    .dataframe thead th {\n",
       "        text-align: right;\n",
       "    }\n",
       "</style>\n",
       "<table border=\"1\" class=\"dataframe\">\n",
       "  <thead>\n",
       "    <tr style=\"text-align: right;\">\n",
       "      <th></th>\n",
       "      <th>Date</th>\n",
       "      <th>Store Number</th>\n",
       "      <th>Store Name</th>\n",
       "      <th>Address</th>\n",
       "      <th>City</th>\n",
       "      <th>Zip Code</th>\n",
       "      <th>Store Location</th>\n",
       "      <th>County Number</th>\n",
       "      <th>County</th>\n",
       "      <th>Category</th>\n",
       "      <th>...</th>\n",
       "      <th>Vendor Name</th>\n",
       "      <th>Item Number</th>\n",
       "      <th>Item Description</th>\n",
       "      <th>Bottle Volume (ml)</th>\n",
       "      <th>State Bottle Cost</th>\n",
       "      <th>State Bottle Retail</th>\n",
       "      <th>Bottles Sold</th>\n",
       "      <th>Sale (Dollars)</th>\n",
       "      <th>Volume Sold (Liters)</th>\n",
       "      <th>Type</th>\n",
       "    </tr>\n",
       "  </thead>\n",
       "  <tbody>\n",
       "    <tr>\n",
       "      <th>0</th>\n",
       "      <td>2017-04-05</td>\n",
       "      <td>3390</td>\n",
       "      <td>okoboji avenue liquor</td>\n",
       "      <td>1610 OKOBOJI AVENUE</td>\n",
       "      <td>MILFORD</td>\n",
       "      <td>51351</td>\n",
       "      <td>POINT (-95.149955 43.331525)</td>\n",
       "      <td>30</td>\n",
       "      <td>DICKINSON</td>\n",
       "      <td>1032200</td>\n",
       "      <td>...</td>\n",
       "      <td>DIAGEO AMERICAS</td>\n",
       "      <td>64716</td>\n",
       "      <td>Ciroc Peach</td>\n",
       "      <td>750</td>\n",
       "      <td>16.49</td>\n",
       "      <td>24.74</td>\n",
       "      <td>12</td>\n",
       "      <td>332.88</td>\n",
       "      <td>9.0</td>\n",
       "      <td>VODKA</td>\n",
       "    </tr>\n",
       "    <tr>\n",
       "      <th>1</th>\n",
       "      <td>2016-10-19</td>\n",
       "      <td>5222</td>\n",
       "      <td>leo1 / cedar rapids</td>\n",
       "      <td>1500 1ST AVE NE</td>\n",
       "      <td>CEDAR RAPIDS</td>\n",
       "      <td>52402</td>\n",
       "      <td>POINT (-91.652082 41.988229)</td>\n",
       "      <td>57</td>\n",
       "      <td>LINN</td>\n",
       "      <td>1031200</td>\n",
       "      <td>...</td>\n",
       "      <td>EANDJ GALLO WINERY</td>\n",
       "      <td>40597</td>\n",
       "      <td>New Amsterdam Red Berry</td>\n",
       "      <td>200</td>\n",
       "      <td>2.49</td>\n",
       "      <td>3.74</td>\n",
       "      <td>24</td>\n",
       "      <td>80.64</td>\n",
       "      <td>4.8</td>\n",
       "      <td>VODKA</td>\n",
       "    </tr>\n",
       "    <tr>\n",
       "      <th>2</th>\n",
       "      <td>2017-04-05</td>\n",
       "      <td>2606</td>\n",
       "      <td>hy-vee wine and spirits / humboldt</td>\n",
       "      <td>1011 13TH ST NORTH</td>\n",
       "      <td>HUMBOLDT</td>\n",
       "      <td>50548</td>\n",
       "      <td>POINT (-94.227116 42.733221)</td>\n",
       "      <td>46</td>\n",
       "      <td>HUMBOLDT</td>\n",
       "      <td>1031100</td>\n",
       "      <td>...</td>\n",
       "      <td>PHILLIPS BEVERAGE</td>\n",
       "      <td>37348</td>\n",
       "      <td>Phillips Vodka</td>\n",
       "      <td>1750</td>\n",
       "      <td>7.60</td>\n",
       "      <td>11.40</td>\n",
       "      <td>6</td>\n",
       "      <td>68.40</td>\n",
       "      <td>10.5</td>\n",
       "      <td>VODKA</td>\n",
       "    </tr>\n",
       "    <tr>\n",
       "      <th>3</th>\n",
       "      <td>2017-04-05</td>\n",
       "      <td>3901</td>\n",
       "      <td>target store t-0878 / fort dodge</td>\n",
       "      <td>2910 1 AVE S</td>\n",
       "      <td>FORT DODGE</td>\n",
       "      <td>50501</td>\n",
       "      <td>POINT (-94.157366 42.505335)</td>\n",
       "      <td>94</td>\n",
       "      <td>WEBSTER</td>\n",
       "      <td>1011600</td>\n",
       "      <td>...</td>\n",
       "      <td>INFINIUM SPIRITS</td>\n",
       "      <td>27102</td>\n",
       "      <td>Templeton 4YR Rye</td>\n",
       "      <td>750</td>\n",
       "      <td>18.09</td>\n",
       "      <td>27.14</td>\n",
       "      <td>6</td>\n",
       "      <td>162.84</td>\n",
       "      <td>4.5</td>\n",
       "      <td>RYE</td>\n",
       "    </tr>\n",
       "    <tr>\n",
       "      <th>4</th>\n",
       "      <td>2016-10-17</td>\n",
       "      <td>3917</td>\n",
       "      <td>smokin' joe's #2 tobacco and liquor outlet</td>\n",
       "      <td>1606 W LOCUST ST</td>\n",
       "      <td>DAVENPORT</td>\n",
       "      <td>52804</td>\n",
       "      <td>POINT (-90.599037 41.538254)</td>\n",
       "      <td>82</td>\n",
       "      <td>SCOTT</td>\n",
       "      <td>1012100</td>\n",
       "      <td>...</td>\n",
       "      <td>DIAGEO AMERICAS</td>\n",
       "      <td>10789</td>\n",
       "      <td>Crown Royal Vanilla</td>\n",
       "      <td>200</td>\n",
       "      <td>4.72</td>\n",
       "      <td>7.08</td>\n",
       "      <td>2</td>\n",
       "      <td>14.16</td>\n",
       "      <td>0.4</td>\n",
       "      <td>WHISKY</td>\n",
       "    </tr>\n",
       "  </tbody>\n",
       "</table>\n",
       "<p>5 rows × 22 columns</p>\n",
       "</div>"
      ],
      "text/plain": [
       "         Date  Store Number                                  Store Name  \\\n",
       "0  2017-04-05          3390                       okoboji avenue liquor   \n",
       "1  2016-10-19          5222                         leo1 / cedar rapids   \n",
       "2  2017-04-05          2606          hy-vee wine and spirits / humboldt   \n",
       "3  2017-04-05          3901            target store t-0878 / fort dodge   \n",
       "4  2016-10-17          3917  smokin' joe's #2 tobacco and liquor outlet   \n",
       "\n",
       "               Address          City  Zip Code                Store Location  \\\n",
       "0  1610 OKOBOJI AVENUE       MILFORD     51351  POINT (-95.149955 43.331525)   \n",
       "1      1500 1ST AVE NE  CEDAR RAPIDS     52402  POINT (-91.652082 41.988229)   \n",
       "2   1011 13TH ST NORTH      HUMBOLDT     50548  POINT (-94.227116 42.733221)   \n",
       "3         2910 1 AVE S    FORT DODGE     50501  POINT (-94.157366 42.505335)   \n",
       "4     1606 W LOCUST ST     DAVENPORT     52804  POINT (-90.599037 41.538254)   \n",
       "\n",
       "   County Number     County  Category  ...         Vendor Name  Item Number  \\\n",
       "0             30  DICKINSON   1032200  ...     DIAGEO AMERICAS        64716   \n",
       "1             57       LINN   1031200  ...  EANDJ GALLO WINERY        40597   \n",
       "2             46   HUMBOLDT   1031100  ...   PHILLIPS BEVERAGE        37348   \n",
       "3             94    WEBSTER   1011600  ...    INFINIUM SPIRITS        27102   \n",
       "4             82      SCOTT   1012100  ...     DIAGEO AMERICAS        10789   \n",
       "\n",
       "          Item Description  Bottle Volume (ml) State Bottle Cost  \\\n",
       "0              Ciroc Peach                 750             16.49   \n",
       "1  New Amsterdam Red Berry                 200              2.49   \n",
       "2           Phillips Vodka                1750              7.60   \n",
       "3        Templeton 4YR Rye                 750             18.09   \n",
       "4      Crown Royal Vanilla                 200              4.72   \n",
       "\n",
       "   State Bottle Retail  Bottles Sold  Sale (Dollars)  Volume Sold (Liters)  \\\n",
       "0                24.74            12          332.88                   9.0   \n",
       "1                 3.74            24           80.64                   4.8   \n",
       "2                11.40             6           68.40                  10.5   \n",
       "3                27.14             6          162.84                   4.5   \n",
       "4                 7.08             2           14.16                   0.4   \n",
       "\n",
       "     Type  \n",
       "0   VODKA  \n",
       "1   VODKA  \n",
       "2   VODKA  \n",
       "3     RYE  \n",
       "4  WHISKY  \n",
       "\n",
       "[5 rows x 22 columns]"
      ]
     },
     "execution_count": 3,
     "metadata": {},
     "output_type": "execute_result"
    }
   ],
   "source": [
    "# take a look at the data\n",
    "\n",
    "iowaLiquorSales.head()"
   ]
  },
  {
   "cell_type": "code",
   "execution_count": 4,
   "id": "fed13313",
   "metadata": {},
   "outputs": [
    {
     "data": {
      "text/plain": [
       "(1000, 22)"
      ]
     },
     "execution_count": 4,
     "metadata": {},
     "output_type": "execute_result"
    }
   ],
   "source": [
    "# and it's size\n",
    "\n",
    "iowaLiquorSales.shape"
   ]
  },
  {
   "cell_type": "code",
   "execution_count": 5,
   "id": "006bb3be",
   "metadata": {},
   "outputs": [
    {
     "data": {
      "text/plain": [
       "Date                    0\n",
       "Store Number            0\n",
       "Store Name              0\n",
       "Address                 0\n",
       "City                    0\n",
       "Zip Code                0\n",
       "Store Location          0\n",
       "County Number           0\n",
       "County                  0\n",
       "Category                0\n",
       "Category Name           0\n",
       "Vendor Number           0\n",
       "Vendor Name             0\n",
       "Item Number             0\n",
       "Item Description        0\n",
       "Bottle Volume (ml)      0\n",
       "State Bottle Cost       0\n",
       "State Bottle Retail     0\n",
       "Bottles Sold            0\n",
       "Sale (Dollars)          0\n",
       "Volume Sold (Liters)    0\n",
       "Type                    0\n",
       "dtype: int64"
      ]
     },
     "execution_count": 5,
     "metadata": {},
     "output_type": "execute_result"
    }
   ],
   "source": [
    "# checking for missing\n",
    "iowaLiquorSales.isna().sum()"
   ]
  },
  {
   "cell_type": "markdown",
   "id": "b049e8fd",
   "metadata": {},
   "source": [
    "##### Are the NaN values specific to a certain location? Would dropping them under represent an area\n",
    "##### zip code is a consistent location tracker\n",
    "##### iowa has 1055 zip codes\n"
   ]
  },
  {
   "cell_type": "code",
   "execution_count": 6,
   "id": "56a9e334",
   "metadata": {},
   "outputs": [
    {
     "data": {
      "text/plain": [
       "216"
      ]
     },
     "execution_count": 6,
     "metadata": {},
     "output_type": "execute_result"
    }
   ],
   "source": [
    "# ZIP CODE\n",
    "iowaLiquorSales['Zip Code'].nunique()"
   ]
  },
  {
   "cell_type": "code",
   "execution_count": 7,
   "id": "3d22db43",
   "metadata": {},
   "outputs": [
    {
     "data": {
      "text/plain": [
       "dtype('int64')"
      ]
     },
     "execution_count": 7,
     "metadata": {},
     "output_type": "execute_result"
    }
   ],
   "source": [
    "# zip code type\n",
    "iowaLiquorSales['Zip Code'].dtypes"
   ]
  },
  {
   "cell_type": "code",
   "execution_count": 8,
   "id": "26af764f",
   "metadata": {},
   "outputs": [],
   "source": [
    "# change zipcode to a number\n",
    "\n",
    "# this one is an error but let me know I had a non-numerical entry\n",
    "#iowaLiquorSales['Zip Code'] = iowaLiquorSales['Zip Code'].astype('float64')"
   ]
  },
  {
   "cell_type": "code",
   "execution_count": 9,
   "id": "2d97fcc1",
   "metadata": {},
   "outputs": [
    {
     "data": {
      "text/html": [
       "<div>\n",
       "<style scoped>\n",
       "    .dataframe tbody tr th:only-of-type {\n",
       "        vertical-align: middle;\n",
       "    }\n",
       "\n",
       "    .dataframe tbody tr th {\n",
       "        vertical-align: top;\n",
       "    }\n",
       "\n",
       "    .dataframe thead th {\n",
       "        text-align: right;\n",
       "    }\n",
       "</style>\n",
       "<table border=\"1\" class=\"dataframe\">\n",
       "  <thead>\n",
       "    <tr style=\"text-align: right;\">\n",
       "      <th></th>\n",
       "      <th>Date</th>\n",
       "      <th>Store Number</th>\n",
       "      <th>Store Name</th>\n",
       "      <th>Address</th>\n",
       "      <th>City</th>\n",
       "      <th>Zip Code</th>\n",
       "      <th>Store Location</th>\n",
       "      <th>County Number</th>\n",
       "      <th>County</th>\n",
       "      <th>Category</th>\n",
       "      <th>...</th>\n",
       "      <th>Vendor Name</th>\n",
       "      <th>Item Number</th>\n",
       "      <th>Item Description</th>\n",
       "      <th>Bottle Volume (ml)</th>\n",
       "      <th>State Bottle Cost</th>\n",
       "      <th>State Bottle Retail</th>\n",
       "      <th>Bottles Sold</th>\n",
       "      <th>Sale (Dollars)</th>\n",
       "      <th>Volume Sold (Liters)</th>\n",
       "      <th>Type</th>\n",
       "    </tr>\n",
       "  </thead>\n",
       "  <tbody>\n",
       "  </tbody>\n",
       "</table>\n",
       "<p>0 rows × 22 columns</p>\n",
       "</div>"
      ],
      "text/plain": [
       "Empty DataFrame\n",
       "Columns: [Date, Store Number, Store Name, Address, City, Zip Code, Store Location, County Number, County, Category, Category Name, Vendor Number, Vendor Name, Item Number, Item Description, Bottle Volume (ml), State Bottle Cost, State Bottle Retail, Bottles Sold, Sale (Dollars), Volume Sold (Liters), Type]\n",
       "Index: []\n",
       "\n",
       "[0 rows x 22 columns]"
      ]
     },
     "execution_count": 9,
     "metadata": {},
     "output_type": "execute_result"
    }
   ],
   "source": [
    "# how many have that random entry\n",
    "iowaLiquorSales[iowaLiquorSales['Zip Code'] == '712-2']"
   ]
  },
  {
   "cell_type": "markdown",
   "id": "655a2bd5",
   "metadata": {},
   "source": [
    "###### 7940 entries, and at a quick glance it is the same location. "
   ]
  },
  {
   "cell_type": "code",
   "execution_count": 10,
   "id": "e8626c8d",
   "metadata": {},
   "outputs": [
    {
     "data": {
      "text/html": [
       "<div>\n",
       "<style scoped>\n",
       "    .dataframe tbody tr th:only-of-type {\n",
       "        vertical-align: middle;\n",
       "    }\n",
       "\n",
       "    .dataframe tbody tr th {\n",
       "        vertical-align: top;\n",
       "    }\n",
       "\n",
       "    .dataframe thead th {\n",
       "        text-align: right;\n",
       "    }\n",
       "</style>\n",
       "<table border=\"1\" class=\"dataframe\">\n",
       "  <thead>\n",
       "    <tr style=\"text-align: right;\">\n",
       "      <th></th>\n",
       "      <th>Store Number</th>\n",
       "      <th>Zip Code</th>\n",
       "      <th>County Number</th>\n",
       "      <th>Category</th>\n",
       "      <th>Vendor Number</th>\n",
       "      <th>Item Number</th>\n",
       "      <th>Bottle Volume (ml)</th>\n",
       "      <th>State Bottle Cost</th>\n",
       "      <th>State Bottle Retail</th>\n",
       "      <th>Bottles Sold</th>\n",
       "      <th>Sale (Dollars)</th>\n",
       "      <th>Volume Sold (Liters)</th>\n",
       "    </tr>\n",
       "    <tr>\n",
       "      <th>City</th>\n",
       "      <th></th>\n",
       "      <th></th>\n",
       "      <th></th>\n",
       "      <th></th>\n",
       "      <th></th>\n",
       "      <th></th>\n",
       "      <th></th>\n",
       "      <th></th>\n",
       "      <th></th>\n",
       "      <th></th>\n",
       "      <th></th>\n",
       "      <th></th>\n",
       "    </tr>\n",
       "  </thead>\n",
       "  <tbody>\n",
       "  </tbody>\n",
       "</table>\n",
       "</div>"
      ],
      "text/plain": [
       "Empty DataFrame\n",
       "Columns: [Store Number, Zip Code, County Number, Category, Vendor Number, Item Number, Bottle Volume (ml), State Bottle Cost, State Bottle Retail, Bottles Sold, Sale (Dollars), Volume Sold (Liters)]\n",
       "Index: []"
      ]
     },
     "execution_count": 10,
     "metadata": {},
     "output_type": "execute_result"
    }
   ],
   "source": [
    "# Let's see if it is only the cityb of Dunlap\n",
    "\n",
    "# create a dummy dataframe of only the odd zip code entries\n",
    "df = iowaLiquorSales[iowaLiquorSales['Zip Code'] == '712-2']\n",
    "\n",
    "# group the dummy dataframe by city, and I chose sum to print the 'df'\n",
    "df.groupby(by='City').sum()"
   ]
  },
  {
   "cell_type": "markdown",
   "id": "f3b306b3",
   "metadata": {},
   "source": [
    "###### all the odd zip code entries are from the city of dunlap\n",
    "Dunlap which has a actual zip code of 51529 and turns out their area code is 712\n",
    "###### change all 712 zip codes to 51529"
   ]
  },
  {
   "cell_type": "code",
   "execution_count": 11,
   "id": "c70a1ba0",
   "metadata": {},
   "outputs": [],
   "source": [
    "# replace all of those entries to the correct zip code\n",
    "iowaLiquorSales['Zip Code'] = iowaLiquorSales['Zip Code'].replace({'712-2': 51529})"
   ]
  },
  {
   "cell_type": "code",
   "execution_count": 12,
   "id": "dda05238",
   "metadata": {},
   "outputs": [
    {
     "data": {
      "text/plain": [
       "array([51351, 52402, 50548, 50501, 52804, 51012, 50316, 50273, 50266,\n",
       "       50317, 50702, 52761, 51331, 50212, 50112, 52314, 52807, 50311,\n",
       "       50125, 50060, 52753, 50010, 52627, 52241, 51040, 51105, 51503,\n",
       "       52001, 52802, 50613, 50265, 51566, 50401, 50248, 52556, 50310,\n",
       "       50208, 52002, 52405, 50158, 51108, 52327, 50322, 50701, 51501,\n",
       "       52205, 50574, 50588, 50021, 50023, 50543, 51054, 52240, 51401,\n",
       "       52317, 50601, 52806, 50616, 52501, 50461, 51104, 51055, 50320,\n",
       "       50263, 52175, 51346, 50314, 50659, 50131, 52040, 51529, 50022,\n",
       "       51632, 52411, 52333, 51106, 50703, 52732, 52577, 52246, 52722,\n",
       "       50595, 50309, 50321, 50315, 50312, 50585, 51250, 50511, 50801,\n",
       "       50517, 51248, 52544, 50583, 50707, 50313, 51537, 51360, 52404,\n",
       "       50006, 50009, 51103, 50219, 50682, 50622, 50677, 50047, 52003,\n",
       "       52353, 50014, 51601, 50111, 50138, 52342, 50142, 52655, 52233,\n",
       "       50213, 52403, 50436, 51442, 52632, 51546, 50628, 50036, 51534,\n",
       "       50651, 52733, 50033, 50581, 52401, 50590, 52142, 52803, 51301,\n",
       "       51249, 50851, 50226, 51521, 52101, 52310, 52033, 51101, 52202,\n",
       "       50323, 50129, 52349, 51551, 50025, 50428, 52601, 52087, 52748,\n",
       "       51530, 50441, 50211, 52060, 50579, 52302, 50563, 52537, 50536,\n",
       "       52208, 50530, 50225, 50841, 50533, 52641, 52356, 52076, 50247,\n",
       "       50459, 51575, 52591, 50833, 50854, 52332, 51449, 52172, 50627,\n",
       "       50597, 52301, 51443, 50327, 50469, 52358, 50674, 50525, 51570,\n",
       "       51035, 51201, 50035, 52151, 52726, 52553, 50421, 51031, 50216,\n",
       "       50123, 52361, 51455, 50220, 52214, 50201, 50324, 50602, 52776,\n",
       "       52159, 50644, 52245, 50325, 50424, 52772, 50514, 50163, 50156])"
      ]
     },
     "execution_count": 12,
     "metadata": {},
     "output_type": "execute_result"
    }
   ],
   "source": [
    "# examine different zip codes\n",
    "iowaLiquorSales['Zip Code'].unique()"
   ]
  },
  {
   "cell_type": "markdown",
   "id": "fd8ec81a",
   "metadata": {},
   "source": [
    "##### some float, some are int, some are str and one nan"
   ]
  },
  {
   "cell_type": "code",
   "execution_count": 13,
   "id": "0a01ec4a",
   "metadata": {},
   "outputs": [],
   "source": [
    "# remove that one null entry by saving notna values\n",
    "iowaLiquorSales = iowaLiquorSales[iowaLiquorSales['Zip Code'].notna()]"
   ]
  },
  {
   "cell_type": "code",
   "execution_count": 14,
   "id": "c626f310",
   "metadata": {},
   "outputs": [],
   "source": [
    "# converting all zip codes to numeric\n",
    "iowaLiquorSales['Zip Code'] = iowaLiquorSales['Zip Code'].astype('int64')"
   ]
  },
  {
   "cell_type": "code",
   "execution_count": 15,
   "id": "fd3de451",
   "metadata": {},
   "outputs": [
    {
     "data": {
      "text/plain": [
       "Date                     object\n",
       "Store Number              int64\n",
       "Store Name               object\n",
       "Address                  object\n",
       "City                     object\n",
       "Zip Code                  int64\n",
       "Store Location           object\n",
       "County Number             int64\n",
       "County                   object\n",
       "Category                  int64\n",
       "Category Name            object\n",
       "Vendor Number           float64\n",
       "Vendor Name              object\n",
       "Item Number               int64\n",
       "Item Description         object\n",
       "Bottle Volume (ml)        int64\n",
       "State Bottle Cost       float64\n",
       "State Bottle Retail     float64\n",
       "Bottles Sold              int64\n",
       "Sale (Dollars)          float64\n",
       "Volume Sold (Liters)    float64\n",
       "Type                     object\n",
       "dtype: object"
      ]
     },
     "execution_count": 15,
     "metadata": {},
     "output_type": "execute_result"
    }
   ],
   "source": [
    "# how are data types for the whole dataframe\n",
    "iowaLiquorSales.dtypes"
   ]
  },
  {
   "cell_type": "code",
   "execution_count": 16,
   "id": "d95c670e",
   "metadata": {},
   "outputs": [],
   "source": [
    "# now that zip code has been cleaned\n",
    "# we can groupby zipcode to see if the missing gps locations are in the same place\n",
    "\n",
    "df = iowaLiquorSales[['Store Location', 'Zip Code']]"
   ]
  },
  {
   "cell_type": "code",
   "execution_count": 17,
   "id": "7c6b8df9",
   "metadata": {},
   "outputs": [
    {
     "name": "stderr",
     "output_type": "stream",
     "text": [
      "/var/folders/70/gq6zfpsx5rg7k0vsvcbg70_40000gn/T/ipykernel_14437/2221258938.py:2: SettingWithCopyWarning: \n",
      "A value is trying to be set on a copy of a slice from a DataFrame.\n",
      "Try using .loc[row_indexer,col_indexer] = value instead\n",
      "\n",
      "See the caveats in the documentation: https://pandas.pydata.org/pandas-docs/stable/user_guide/indexing.html#returning-a-view-versus-a-copy\n",
      "  df['Store Location'] = df['Store Location'].fillna(0)\n"
     ]
    }
   ],
   "source": [
    "# get rid of the null values in dummy dataframe\n",
    "df['Store Location'] = df['Store Location'].fillna(0)"
   ]
  },
  {
   "cell_type": "code",
   "execution_count": 18,
   "id": "66bd7f48",
   "metadata": {},
   "outputs": [],
   "source": [
    "# focus on just the missing locations\n",
    "dff = df[df['Store Location'] == 0]"
   ]
  },
  {
   "cell_type": "code",
   "execution_count": 19,
   "id": "46eaae9a",
   "metadata": {},
   "outputs": [
    {
     "data": {
      "text/plain": [
       "Series([], dtype: int64)"
      ]
     },
     "execution_count": 19,
     "metadata": {},
     "output_type": "execute_result"
    }
   ],
   "source": [
    "# how many missing values are there per zip code\n",
    "dff.value_counts()\n"
   ]
  },
  {
   "cell_type": "code",
   "execution_count": 20,
   "id": "711886da",
   "metadata": {},
   "outputs": [],
   "source": [
    "# missing store location values are spread out enough to dropna()"
   ]
  },
  {
   "cell_type": "code",
   "execution_count": 21,
   "id": "92398a05",
   "metadata": {},
   "outputs": [],
   "source": [
    "# drop null values\n",
    "iowa_liq_sales = iowaLiquorSales.dropna()"
   ]
  },
  {
   "cell_type": "code",
   "execution_count": 22,
   "id": "fcf9ff4f",
   "metadata": {},
   "outputs": [
    {
     "ename": "KeyError",
     "evalue": "\"['Invoice/Item Number' 'Pack' 'Volume Sold (Gallons)'] not found in axis\"",
     "output_type": "error",
     "traceback": [
      "\u001b[0;31m---------------------------------------------------------------------------\u001b[0m",
      "\u001b[0;31mKeyError\u001b[0m                                  Traceback (most recent call last)",
      "\u001b[0;32m/var/folders/70/gq6zfpsx5rg7k0vsvcbg70_40000gn/T/ipykernel_14437/2740176393.py\u001b[0m in \u001b[0;36m<module>\u001b[0;34m\u001b[0m\n\u001b[1;32m      1\u001b[0m \u001b[0;31m# drop unneeded columns\u001b[0m\u001b[0;34m\u001b[0m\u001b[0;34m\u001b[0m\u001b[0;34m\u001b[0m\u001b[0m\n\u001b[0;32m----> 2\u001b[0;31m \u001b[0miowa_liq_sales\u001b[0m \u001b[0;34m=\u001b[0m \u001b[0miowa_liq_sales\u001b[0m\u001b[0;34m.\u001b[0m\u001b[0mdrop\u001b[0m\u001b[0;34m(\u001b[0m\u001b[0mcolumns\u001b[0m\u001b[0;34m=\u001b[0m\u001b[0;34m[\u001b[0m\u001b[0;34m'Invoice/Item Number'\u001b[0m\u001b[0;34m,\u001b[0m\u001b[0;34m'Pack'\u001b[0m\u001b[0;34m,\u001b[0m\u001b[0;34m'Volume Sold (Gallons)'\u001b[0m\u001b[0;34m]\u001b[0m\u001b[0;34m)\u001b[0m\u001b[0;34m\u001b[0m\u001b[0;34m\u001b[0m\u001b[0m\n\u001b[0m",
      "\u001b[0;32m~/opt/anaconda3/lib/python3.8/site-packages/pandas/util/_decorators.py\u001b[0m in \u001b[0;36mwrapper\u001b[0;34m(*args, **kwargs)\u001b[0m\n\u001b[1;32m    309\u001b[0m                     \u001b[0mstacklevel\u001b[0m\u001b[0;34m=\u001b[0m\u001b[0mstacklevel\u001b[0m\u001b[0;34m,\u001b[0m\u001b[0;34m\u001b[0m\u001b[0;34m\u001b[0m\u001b[0m\n\u001b[1;32m    310\u001b[0m                 )\n\u001b[0;32m--> 311\u001b[0;31m             \u001b[0;32mreturn\u001b[0m \u001b[0mfunc\u001b[0m\u001b[0;34m(\u001b[0m\u001b[0;34m*\u001b[0m\u001b[0margs\u001b[0m\u001b[0;34m,\u001b[0m \u001b[0;34m**\u001b[0m\u001b[0mkwargs\u001b[0m\u001b[0;34m)\u001b[0m\u001b[0;34m\u001b[0m\u001b[0;34m\u001b[0m\u001b[0m\n\u001b[0m\u001b[1;32m    312\u001b[0m \u001b[0;34m\u001b[0m\u001b[0m\n\u001b[1;32m    313\u001b[0m         \u001b[0;32mreturn\u001b[0m \u001b[0mwrapper\u001b[0m\u001b[0;34m\u001b[0m\u001b[0;34m\u001b[0m\u001b[0m\n",
      "\u001b[0;32m~/opt/anaconda3/lib/python3.8/site-packages/pandas/core/frame.py\u001b[0m in \u001b[0;36mdrop\u001b[0;34m(self, labels, axis, index, columns, level, inplace, errors)\u001b[0m\n\u001b[1;32m   4904\u001b[0m                 \u001b[0mweight\u001b[0m  \u001b[0;36m1.0\u001b[0m     \u001b[0;36m0.8\u001b[0m\u001b[0;34m\u001b[0m\u001b[0;34m\u001b[0m\u001b[0m\n\u001b[1;32m   4905\u001b[0m         \"\"\"\n\u001b[0;32m-> 4906\u001b[0;31m         return super().drop(\n\u001b[0m\u001b[1;32m   4907\u001b[0m             \u001b[0mlabels\u001b[0m\u001b[0;34m=\u001b[0m\u001b[0mlabels\u001b[0m\u001b[0;34m,\u001b[0m\u001b[0;34m\u001b[0m\u001b[0;34m\u001b[0m\u001b[0m\n\u001b[1;32m   4908\u001b[0m             \u001b[0maxis\u001b[0m\u001b[0;34m=\u001b[0m\u001b[0maxis\u001b[0m\u001b[0;34m,\u001b[0m\u001b[0;34m\u001b[0m\u001b[0;34m\u001b[0m\u001b[0m\n",
      "\u001b[0;32m~/opt/anaconda3/lib/python3.8/site-packages/pandas/core/generic.py\u001b[0m in \u001b[0;36mdrop\u001b[0;34m(self, labels, axis, index, columns, level, inplace, errors)\u001b[0m\n\u001b[1;32m   4148\u001b[0m         \u001b[0;32mfor\u001b[0m \u001b[0maxis\u001b[0m\u001b[0;34m,\u001b[0m \u001b[0mlabels\u001b[0m \u001b[0;32min\u001b[0m \u001b[0maxes\u001b[0m\u001b[0;34m.\u001b[0m\u001b[0mitems\u001b[0m\u001b[0;34m(\u001b[0m\u001b[0;34m)\u001b[0m\u001b[0;34m:\u001b[0m\u001b[0;34m\u001b[0m\u001b[0;34m\u001b[0m\u001b[0m\n\u001b[1;32m   4149\u001b[0m             \u001b[0;32mif\u001b[0m \u001b[0mlabels\u001b[0m \u001b[0;32mis\u001b[0m \u001b[0;32mnot\u001b[0m \u001b[0;32mNone\u001b[0m\u001b[0;34m:\u001b[0m\u001b[0;34m\u001b[0m\u001b[0;34m\u001b[0m\u001b[0m\n\u001b[0;32m-> 4150\u001b[0;31m                 \u001b[0mobj\u001b[0m \u001b[0;34m=\u001b[0m \u001b[0mobj\u001b[0m\u001b[0;34m.\u001b[0m\u001b[0m_drop_axis\u001b[0m\u001b[0;34m(\u001b[0m\u001b[0mlabels\u001b[0m\u001b[0;34m,\u001b[0m \u001b[0maxis\u001b[0m\u001b[0;34m,\u001b[0m \u001b[0mlevel\u001b[0m\u001b[0;34m=\u001b[0m\u001b[0mlevel\u001b[0m\u001b[0;34m,\u001b[0m \u001b[0merrors\u001b[0m\u001b[0;34m=\u001b[0m\u001b[0merrors\u001b[0m\u001b[0;34m)\u001b[0m\u001b[0;34m\u001b[0m\u001b[0;34m\u001b[0m\u001b[0m\n\u001b[0m\u001b[1;32m   4151\u001b[0m \u001b[0;34m\u001b[0m\u001b[0m\n\u001b[1;32m   4152\u001b[0m         \u001b[0;32mif\u001b[0m \u001b[0minplace\u001b[0m\u001b[0;34m:\u001b[0m\u001b[0;34m\u001b[0m\u001b[0;34m\u001b[0m\u001b[0m\n",
      "\u001b[0;32m~/opt/anaconda3/lib/python3.8/site-packages/pandas/core/generic.py\u001b[0m in \u001b[0;36m_drop_axis\u001b[0;34m(self, labels, axis, level, errors)\u001b[0m\n\u001b[1;32m   4183\u001b[0m                 \u001b[0mnew_axis\u001b[0m \u001b[0;34m=\u001b[0m \u001b[0maxis\u001b[0m\u001b[0;34m.\u001b[0m\u001b[0mdrop\u001b[0m\u001b[0;34m(\u001b[0m\u001b[0mlabels\u001b[0m\u001b[0;34m,\u001b[0m \u001b[0mlevel\u001b[0m\u001b[0;34m=\u001b[0m\u001b[0mlevel\u001b[0m\u001b[0;34m,\u001b[0m \u001b[0merrors\u001b[0m\u001b[0;34m=\u001b[0m\u001b[0merrors\u001b[0m\u001b[0;34m)\u001b[0m\u001b[0;34m\u001b[0m\u001b[0;34m\u001b[0m\u001b[0m\n\u001b[1;32m   4184\u001b[0m             \u001b[0;32melse\u001b[0m\u001b[0;34m:\u001b[0m\u001b[0;34m\u001b[0m\u001b[0;34m\u001b[0m\u001b[0m\n\u001b[0;32m-> 4185\u001b[0;31m                 \u001b[0mnew_axis\u001b[0m \u001b[0;34m=\u001b[0m \u001b[0maxis\u001b[0m\u001b[0;34m.\u001b[0m\u001b[0mdrop\u001b[0m\u001b[0;34m(\u001b[0m\u001b[0mlabels\u001b[0m\u001b[0;34m,\u001b[0m \u001b[0merrors\u001b[0m\u001b[0;34m=\u001b[0m\u001b[0merrors\u001b[0m\u001b[0;34m)\u001b[0m\u001b[0;34m\u001b[0m\u001b[0;34m\u001b[0m\u001b[0m\n\u001b[0m\u001b[1;32m   4186\u001b[0m             \u001b[0mresult\u001b[0m \u001b[0;34m=\u001b[0m \u001b[0mself\u001b[0m\u001b[0;34m.\u001b[0m\u001b[0mreindex\u001b[0m\u001b[0;34m(\u001b[0m\u001b[0;34m**\u001b[0m\u001b[0;34m{\u001b[0m\u001b[0maxis_name\u001b[0m\u001b[0;34m:\u001b[0m \u001b[0mnew_axis\u001b[0m\u001b[0;34m}\u001b[0m\u001b[0;34m)\u001b[0m\u001b[0;34m\u001b[0m\u001b[0;34m\u001b[0m\u001b[0m\n\u001b[1;32m   4187\u001b[0m \u001b[0;34m\u001b[0m\u001b[0m\n",
      "\u001b[0;32m~/opt/anaconda3/lib/python3.8/site-packages/pandas/core/indexes/base.py\u001b[0m in \u001b[0;36mdrop\u001b[0;34m(self, labels, errors)\u001b[0m\n\u001b[1;32m   6015\u001b[0m         \u001b[0;32mif\u001b[0m \u001b[0mmask\u001b[0m\u001b[0;34m.\u001b[0m\u001b[0many\u001b[0m\u001b[0;34m(\u001b[0m\u001b[0;34m)\u001b[0m\u001b[0;34m:\u001b[0m\u001b[0;34m\u001b[0m\u001b[0;34m\u001b[0m\u001b[0m\n\u001b[1;32m   6016\u001b[0m             \u001b[0;32mif\u001b[0m \u001b[0merrors\u001b[0m \u001b[0;34m!=\u001b[0m \u001b[0;34m\"ignore\"\u001b[0m\u001b[0;34m:\u001b[0m\u001b[0;34m\u001b[0m\u001b[0;34m\u001b[0m\u001b[0m\n\u001b[0;32m-> 6017\u001b[0;31m                 \u001b[0;32mraise\u001b[0m \u001b[0mKeyError\u001b[0m\u001b[0;34m(\u001b[0m\u001b[0;34mf\"{labels[mask]} not found in axis\"\u001b[0m\u001b[0;34m)\u001b[0m\u001b[0;34m\u001b[0m\u001b[0;34m\u001b[0m\u001b[0m\n\u001b[0m\u001b[1;32m   6018\u001b[0m             \u001b[0mindexer\u001b[0m \u001b[0;34m=\u001b[0m \u001b[0mindexer\u001b[0m\u001b[0;34m[\u001b[0m\u001b[0;34m~\u001b[0m\u001b[0mmask\u001b[0m\u001b[0;34m]\u001b[0m\u001b[0;34m\u001b[0m\u001b[0;34m\u001b[0m\u001b[0m\n\u001b[1;32m   6019\u001b[0m         \u001b[0;32mreturn\u001b[0m \u001b[0mself\u001b[0m\u001b[0;34m.\u001b[0m\u001b[0mdelete\u001b[0m\u001b[0;34m(\u001b[0m\u001b[0mindexer\u001b[0m\u001b[0;34m)\u001b[0m\u001b[0;34m\u001b[0m\u001b[0;34m\u001b[0m\u001b[0m\n",
      "\u001b[0;31mKeyError\u001b[0m: \"['Invoice/Item Number' 'Pack' 'Volume Sold (Gallons)'] not found in axis\""
     ]
    }
   ],
   "source": [
    "# drop unneeded columns\n",
    "iowa_liq_sales = iowa_liq_sales.drop(columns=['Invoice/Item Number','Pack','Volume Sold (Gallons)'])"
   ]
  },
  {
   "cell_type": "code",
   "execution_count": null,
   "id": "1e05244d",
   "metadata": {},
   "outputs": [],
   "source": [
    "# current state\n",
    "iowa_liq_sales.head()"
   ]
  },
  {
   "cell_type": "code",
   "execution_count": null,
   "id": "175c0491",
   "metadata": {
    "scrolled": true
   },
   "outputs": [],
   "source": [
    "# check column data types\n",
    "iowa_liq_sales.dtypes"
   ]
  },
  {
   "cell_type": "code",
   "execution_count": null,
   "id": "145720fb",
   "metadata": {},
   "outputs": [],
   "source": [
    "# CLEAN UP DATA ENTRIES\n",
    "\n",
    "#DATE COLUMN\n",
    "\n",
    "iowa_liq_sales['Date'].describe(datetime_is_numeric=True)"
   ]
  },
  {
   "cell_type": "code",
   "execution_count": null,
   "id": "9e1ea7a9",
   "metadata": {},
   "outputs": [],
   "source": [
    "# 'Date' column is also an object type. let's change that to date time with pandas.to_datetime()\n",
    "iowa_liq_sales['Date'] = pd.to_datetime(iowa_liq_sales['Date'])"
   ]
  },
  {
   "cell_type": "code",
   "execution_count": null,
   "id": "f3196f3e",
   "metadata": {},
   "outputs": [],
   "source": [
    "# STORE NUMBER COLUMN\n",
    "\n",
    "#Store Number column\n",
    "iowa_liq_sales['Store Number'].head()"
   ]
  },
  {
   "cell_type": "code",
   "execution_count": null,
   "id": "080527bb",
   "metadata": {},
   "outputs": [],
   "source": [
    "# how many different store numbers are there?\n",
    "iowa_liq_sales['Store Number'].nunique()"
   ]
  },
  {
   "cell_type": "code",
   "execution_count": null,
   "id": "719da181",
   "metadata": {},
   "outputs": [],
   "source": [
    "# STORE NAME COLUMN\n",
    "\n",
    "iowa_liq_sales['Store Name'].describe()"
   ]
  },
  {
   "cell_type": "code",
   "execution_count": null,
   "id": "6a63357f",
   "metadata": {},
   "outputs": [],
   "source": [
    "# there's 2830 unique store names\n",
    "# examine a sample\n",
    "iowa_liq_sales['Store Name'].head(25)"
   ]
  },
  {
   "cell_type": "code",
   "execution_count": null,
   "id": "dffbfc67",
   "metadata": {},
   "outputs": [],
   "source": [
    "# There are more Store names than numbers, let's see if we can clean this up"
   ]
  },
  {
   "cell_type": "code",
   "execution_count": null,
   "id": "9107357d",
   "metadata": {},
   "outputs": [],
   "source": [
    "# clean up some\n",
    "iowa_liq_sales['Store Name'] = iowa_liq_sales['Store Name'].str.lower()"
   ]
  },
  {
   "cell_type": "code",
   "execution_count": null,
   "id": "b4f51839",
   "metadata": {},
   "outputs": [],
   "source": [
    "iowa_liq_sales['Store Name'] = iowa_liq_sales['Store Name'].str.replace('&','and')"
   ]
  },
  {
   "cell_type": "code",
   "execution_count": null,
   "id": "66eb9981",
   "metadata": {},
   "outputs": [],
   "source": [
    "iowa_liq_sales['Store Name'] = iowa_liq_sales['Store Name'].str.replace('# ','#')"
   ]
  },
  {
   "cell_type": "code",
   "execution_count": null,
   "id": "eecf649d",
   "metadata": {},
   "outputs": [],
   "source": [
    "iowa_liq_sales['Store Name'] = iowa_liq_sales['Store Name'].str.replace('  ',' ')"
   ]
  },
  {
   "cell_type": "code",
   "execution_count": null,
   "id": "36d122de",
   "metadata": {},
   "outputs": [],
   "source": [
    "iowa_liq_sales['Store Name'].nunique()"
   ]
  },
  {
   "cell_type": "code",
   "execution_count": null,
   "id": "c491e1be",
   "metadata": {},
   "outputs": [],
   "source": [
    "# from 2830 to 2622  want 2526"
   ]
  },
  {
   "cell_type": "code",
   "execution_count": null,
   "id": "08f8f0a1",
   "metadata": {},
   "outputs": [],
   "source": [
    "# ADDRESS\n",
    "\n",
    "iowa_liq_sales['Address'].describe()"
   ]
  },
  {
   "cell_type": "code",
   "execution_count": null,
   "id": "7c3d752f",
   "metadata": {},
   "outputs": [],
   "source": [
    "# take a look at address's\n",
    "iowa_liq_sales['Address'].head(25)"
   ]
  },
  {
   "cell_type": "code",
   "execution_count": null,
   "id": "279e32d7",
   "metadata": {},
   "outputs": [],
   "source": [
    "# clean up addresses to limit duplicates\n",
    "iowa_liq_sales['Address'] = iowa_liq_sales['Address'].str.upper()"
   ]
  },
  {
   "cell_type": "code",
   "execution_count": null,
   "id": "fc4e1b0f",
   "metadata": {},
   "outputs": [],
   "source": [
    "iowa_liq_sales['Address'] = iowa_liq_sales['Address'].str.replace(',','')"
   ]
  },
  {
   "cell_type": "code",
   "execution_count": null,
   "id": "acd98687",
   "metadata": {},
   "outputs": [],
   "source": [
    "iowa_liq_sales['Address'] = iowa_liq_sales['Address'].str.replace('.','')"
   ]
  },
  {
   "cell_type": "code",
   "execution_count": null,
   "id": "dd093337",
   "metadata": {},
   "outputs": [],
   "source": [
    "iowa_liq_sales['Address'] = iowa_liq_sales['Address'].str.replace('  ',' ')"
   ]
  },
  {
   "cell_type": "code",
   "execution_count": null,
   "id": "edb57326",
   "metadata": {},
   "outputs": [],
   "source": [
    "# look at the new look\n",
    "iowa_liq_sales['Address'].head(25)"
   ]
  },
  {
   "cell_type": "code",
   "execution_count": null,
   "id": "fee941fd",
   "metadata": {},
   "outputs": [],
   "source": [
    "iowa_liq_sales['Address'].nunique()"
   ]
  },
  {
   "cell_type": "code",
   "execution_count": null,
   "id": "ace753f6",
   "metadata": {},
   "outputs": [],
   "source": [
    "# CITY\n",
    "iowa_liq_sales[\"City\"].describe()"
   ]
  },
  {
   "cell_type": "code",
   "execution_count": null,
   "id": "96939ca5",
   "metadata": {},
   "outputs": [],
   "source": [
    "# check for any incorrect entries\n",
    "iowa_liq_sales['City'].unique()"
   ]
  },
  {
   "cell_type": "markdown",
   "id": "2718da73",
   "metadata": {},
   "source": [
    "###### some are all caps let's standardize that"
   ]
  },
  {
   "cell_type": "code",
   "execution_count": null,
   "id": "b575f804",
   "metadata": {},
   "outputs": [],
   "source": [
    "# convert all cities to upper case\n",
    "iowa_liq_sales['City'] = iowa_liq_sales['City'].str.upper()"
   ]
  },
  {
   "cell_type": "code",
   "execution_count": null,
   "id": "c0113363",
   "metadata": {},
   "outputs": [],
   "source": [
    "# compare to earlier unique values\n",
    "iowa_liq_sales['City'].nunique()"
   ]
  },
  {
   "cell_type": "code",
   "execution_count": null,
   "id": "e95b4f23",
   "metadata": {},
   "outputs": [],
   "source": [
    "# further exploration distinct combinations\n",
    "\n",
    "(~iowa_liq_sales.duplicated(['Store Number','Store Name', 'Zip Code'])).sum(), (~iowa_liq_sales.duplicated(['Store Number','Store Name', 'Address'])).sum()"
   ]
  },
  {
   "cell_type": "code",
   "execution_count": null,
   "id": "f39654b9",
   "metadata": {},
   "outputs": [],
   "source": [
    "# STORE LOCATION\n",
    "\n",
    "#I have not used gps data before but these seem to be in the correct format."
   ]
  },
  {
   "cell_type": "code",
   "execution_count": null,
   "id": "b13f9af1",
   "metadata": {
    "scrolled": true
   },
   "outputs": [],
   "source": [
    "# COUNTY NUMBER\n",
    "\n",
    "iowa_liq_sales['County Number'] = iowa_liq_sales['County Number'].astype('int64')"
   ]
  },
  {
   "cell_type": "code",
   "execution_count": null,
   "id": "105a8149",
   "metadata": {},
   "outputs": [],
   "source": [
    "# a quick google search of: number of counties in iowa, 99 is correct\n",
    "\n",
    "iowa_liq_sales['County Number'].nunique()"
   ]
  },
  {
   "cell_type": "code",
   "execution_count": null,
   "id": "17b106d6",
   "metadata": {},
   "outputs": [],
   "source": [
    "# COUNTY\n",
    "\n",
    "# we know it is supposed to be 99\n",
    "iowa_liq_sales['County'].nunique()"
   ]
  },
  {
   "cell_type": "code",
   "execution_count": null,
   "id": "e3286688",
   "metadata": {},
   "outputs": [],
   "source": [
    "# examine\n",
    "iowa_liq_sales['County'].head(25)"
   ]
  },
  {
   "cell_type": "code",
   "execution_count": null,
   "id": "9360cb15",
   "metadata": {},
   "outputs": [],
   "source": [
    "# make all county names capital\n",
    "iowa_liq_sales['County'] = iowa_liq_sales['County'].str.upper()"
   ]
  },
  {
   "cell_type": "code",
   "execution_count": null,
   "id": "a8976cc2",
   "metadata": {},
   "outputs": [],
   "source": [
    "# did we catch 'em all?\n",
    "iowa_liq_sales['County'].nunique()"
   ]
  },
  {
   "cell_type": "code",
   "execution_count": null,
   "id": "31aead62",
   "metadata": {},
   "outputs": [],
   "source": [
    "iowa_liq_sales['County'].unique()"
   ]
  },
  {
   "cell_type": "markdown",
   "id": "0558dd1a",
   "metadata": {},
   "source": [
    "#### okay we have 4 too many, a read through: buena vist probably is buena vista, cerro gord is cerro gordo, o'brien and obrien, and pottawatta is pottawattamie"
   ]
  },
  {
   "cell_type": "code",
   "execution_count": null,
   "id": "6cbbcd7e",
   "metadata": {},
   "outputs": [],
   "source": [
    "# swap back and forth\n",
    "iowa_liq_sales['County'] = iowa_liq_sales['County'].str.replace('OBRIEN',\"O'BRIEN\")\n",
    "iowa_liq_sales['County'] = iowa_liq_sales['County'].str.replace('VISTA','VIST')\n",
    "iowa_liq_sales['County'] = iowa_liq_sales['County'].str.replace('CERRO GORDO','CERRO GORD')\n",
    "iowa_liq_sales['County'] = iowa_liq_sales['County'].str.replace('POTTAWATTAMIE','POTTAWATTA')\n",
    "\n",
    "iowa_liq_sales['County'] = iowa_liq_sales['County'].str.replace('VIST','VISTA')\n",
    "iowa_liq_sales['County'] = iowa_liq_sales['County'].str.replace('CERRO GORD','CERRO GORDO')\n",
    "iowa_liq_sales['County'] = iowa_liq_sales['County'].str.replace('POTTAWATTA','POTTAWATTAMIE')"
   ]
  },
  {
   "cell_type": "code",
   "execution_count": null,
   "id": "acbef77f",
   "metadata": {},
   "outputs": [],
   "source": [
    "# did we catch 'em all?\n",
    "iowa_liq_sales['County'].unique()"
   ]
  },
  {
   "cell_type": "code",
   "execution_count": null,
   "id": "92cce834",
   "metadata": {},
   "outputs": [],
   "source": [
    "iowa_liq_sales['County'].nunique()"
   ]
  },
  {
   "cell_type": "code",
   "execution_count": null,
   "id": "ba53295b",
   "metadata": {},
   "outputs": [],
   "source": [
    "# CATEGORY\n",
    "iowa_liq_sales['Category'].nunique()"
   ]
  },
  {
   "cell_type": "code",
   "execution_count": null,
   "id": "96df2359",
   "metadata": {},
   "outputs": [],
   "source": [
    "# take a look\n",
    "iowa_liq_sales['Category'].unique()"
   ]
  },
  {
   "cell_type": "code",
   "execution_count": null,
   "id": "13a43b38",
   "metadata": {},
   "outputs": [],
   "source": [
    "iowa_liq_sales['Category'].dtype"
   ]
  },
  {
   "cell_type": "code",
   "execution_count": null,
   "id": "39c669c1",
   "metadata": {},
   "outputs": [],
   "source": [
    "# let's remove the trailing period\n",
    "iowa_liq_sales['Category'] = iowa_liq_sales['Category'].astype('int64')"
   ]
  },
  {
   "cell_type": "code",
   "execution_count": null,
   "id": "5e4271e5",
   "metadata": {},
   "outputs": [],
   "source": [
    "# CATEGORY NAME\n",
    "iowa_liq_sales['Category Name'].nunique()"
   ]
  },
  {
   "cell_type": "markdown",
   "id": "dd7b3725",
   "metadata": {},
   "source": [
    "###### this is greater than the amount of category numbers"
   ]
  },
  {
   "cell_type": "code",
   "execution_count": null,
   "id": "da9e468c",
   "metadata": {},
   "outputs": [],
   "source": [
    "# so take a look\n",
    "iowa_liq_sales['Category Name'].unique()"
   ]
  },
  {
   "cell_type": "code",
   "execution_count": null,
   "id": "4ef58c16",
   "metadata": {},
   "outputs": [],
   "source": [
    "# try standardizing letter case\n",
    "iowa_liq_sales['Category Name'] = iowa_liq_sales['Category Name'].str.upper()"
   ]
  },
  {
   "cell_type": "code",
   "execution_count": null,
   "id": "50a7bbf1",
   "metadata": {},
   "outputs": [],
   "source": [
    "# we want 109\n",
    "iowa_liq_sales['Category Name'].nunique()"
   ]
  },
  {
   "cell_type": "code",
   "execution_count": null,
   "id": "8a89f8b1",
   "metadata": {},
   "outputs": [],
   "source": [
    "iowa_liq_sales['Category Name'].unique()"
   ]
  },
  {
   "cell_type": "code",
   "execution_count": null,
   "id": "5260c199",
   "metadata": {},
   "outputs": [],
   "source": [
    "# I see a few double spaces\n",
    "iowa_liq_sales['Category Name'] = iowa_liq_sales['Category Name'].str.replace('  ', ' ')"
   ]
  },
  {
   "cell_type": "code",
   "execution_count": null,
   "id": "a3b34d92",
   "metadata": {},
   "outputs": [],
   "source": [
    "# we want 109\n",
    "iowa_liq_sales['Category Name'].nunique()"
   ]
  },
  {
   "cell_type": "code",
   "execution_count": null,
   "id": "6ec34e06",
   "metadata": {},
   "outputs": [],
   "source": [
    "# after reading through the list it was 'COCKTAILS /RTD' and 'COCKTAILS / RTD'\n",
    "# however also reading through the list these might be tax distinctions rather than specific alchohol groups\n",
    "iowa_liq_sales['Category Name'] = iowa_liq_sales['Category Name'].str.replace('COCKTAILS /RTD', 'COCKTAILS / RTD')"
   ]
  },
  {
   "cell_type": "code",
   "execution_count": null,
   "id": "7c73ee7b",
   "metadata": {},
   "outputs": [],
   "source": [
    "# we want 109\n",
    "iowa_liq_sales['Category Name'].nunique()"
   ]
  },
  {
   "cell_type": "code",
   "execution_count": null,
   "id": "28e181cc",
   "metadata": {},
   "outputs": [],
   "source": [
    "# checking to see if these combinations line up\n",
    "iowa_liq_sales.groupby('Category')['Category Name'].unique().head(25)"
   ]
  },
  {
   "cell_type": "code",
   "execution_count": null,
   "id": "92d98619",
   "metadata": {},
   "outputs": [],
   "source": [
    "# create a function to create less specific column for liquor type\n",
    "\n",
    "def type(x):\n",
    "    #search through values to apply a new label\n",
    "    if \"IOWA\" in x:\n",
    "        return \"IOWA LOCAL\"\n",
    "    elif \"TEMPORARY\" in x:\n",
    "        return \"SPECIAL PACKAGING\"\n",
    "    elif \"HOLIDAY\" in x:\n",
    "        return \"SPECIAL PACKAGING\"\n",
    "    elif \"DELISTED\" in x:\n",
    "        return \"DELISTED\"\n",
    "    elif \"LIQUEUR\" in x:\n",
    "        return \"LIQUEUR\"\n",
    "    elif \"ROCK & RYE\" in x:\n",
    "        return \"LIQUEUR\"\n",
    "    elif \"AMARETTO\" in x:\n",
    "        return \"LIQUEUR\"\n",
    "    elif \"SCHNAPPS\" in x:\n",
    "        return \"LIQUEUR\"\n",
    "    elif 'TRIPLE SEC' in x:\n",
    "        return \"LIQUEUR\"\n",
    "    elif 'SLOE' in x:\n",
    "        return \"LIQUEUR\"\n",
    "    elif \"CREME\" in x:\n",
    "        return \n",
    "    elif \"RYE\" in x:\n",
    "        return \"RYE\"\n",
    "    elif \"RUM\" in x:\n",
    "        return \"RUM\"\n",
    "    elif \"SCOTCH\" in x:\n",
    "        return \"SCOTCH\"\n",
    "    elif \"BOURBON\" in x:\n",
    "        return \"BOURBON\"\n",
    "    elif \"TEQUILA\" in x:\n",
    "        return \"TEQUILA\" \n",
    "    elif \"MEZCAL\" in x:\n",
    "        return \"MEZCAL\" \n",
    "    elif \"VODKA\" in x:\n",
    "        return \"VODKA\"\n",
    "    elif \"GIN\" in x:\n",
    "        return \"GIN\"\n",
    "    elif \"BRANDIES\" in x:\n",
    "        return \"BRANDY\"\n",
    "    elif \"WHISK\" in x:\n",
    "        return \"WHISKY\"\n",
    "    elif \"NEUTRAL\" in x:\n",
    "        return \"NEUTRAL GRAIN\"\n",
    "    elif \"SPECIAL\" in x:\n",
    "        return \"SPECIALTY\"\n",
    "    elif \"COCKTAIL\" in x:\n",
    "        return 'COCKTAILS / RTD'\n",
    "    elif \"HIGH PROOF BEER\" in x:\n",
    "        return 'HIGH PROOF BEER'\n",
    "    \n",
    "    else:\n",
    "        return x"
   ]
  },
  {
   "cell_type": "code",
   "execution_count": null,
   "id": "fce63c02",
   "metadata": {},
   "outputs": [],
   "source": [
    "# apply that function to create a new column\n",
    "iowa_liq_sales['Type'] = iowa_liq_sales['Category Name'].apply(lambda x: type(x))"
   ]
  },
  {
   "cell_type": "code",
   "execution_count": null,
   "id": "6af0196a",
   "metadata": {},
   "outputs": [],
   "source": [
    "iowa_liq_sales['Type'].unique()"
   ]
  },
  {
   "cell_type": "code",
   "execution_count": null,
   "id": "f5345ead",
   "metadata": {},
   "outputs": [],
   "source": [
    "iowa_liq_sales[iowa_liq_sales['Type'] == \"AMERICAN ALCOHOL\"]['Item Description'].unique()"
   ]
  },
  {
   "cell_type": "code",
   "execution_count": null,
   "id": "8789a6bd",
   "metadata": {},
   "outputs": [],
   "source": [
    "# VENDOR NUMBER\n",
    "iowa_liq_sales['Vendor Number'].nunique()"
   ]
  },
  {
   "cell_type": "code",
   "execution_count": null,
   "id": "e9f87d96",
   "metadata": {},
   "outputs": [],
   "source": [
    "# VENDOR NAME\n",
    "iowa_liq_sales['Vendor Name'].nunique()"
   ]
  },
  {
   "cell_type": "code",
   "execution_count": null,
   "id": "7622185e",
   "metadata": {},
   "outputs": [],
   "source": [
    "#check for obvious duplicates\n",
    "iowa_liq_sales['Vendor Name'].unique()"
   ]
  },
  {
   "cell_type": "code",
   "execution_count": null,
   "id": "46ab62d0",
   "metadata": {},
   "outputs": [],
   "source": [
    "#standardize \n",
    "iowa_liq_sales['Vendor Name'] = iowa_liq_sales['Vendor Name'].str.upper()"
   ]
  },
  {
   "cell_type": "code",
   "execution_count": null,
   "id": "e2ad8e0b",
   "metadata": {},
   "outputs": [],
   "source": [
    "# clean up some more\n",
    "iowa_liq_sales['Vendor Name'] = iowa_liq_sales['Vendor Name'].str.replace('LLC','')"
   ]
  },
  {
   "cell_type": "code",
   "execution_count": null,
   "id": "5bd09404",
   "metadata": {},
   "outputs": [],
   "source": [
    "iowa_liq_sales['Vendor Name'] = iowa_liq_sales['Vendor Name'].str.replace('INC','')"
   ]
  },
  {
   "cell_type": "code",
   "execution_count": null,
   "id": "0ec62f57",
   "metadata": {},
   "outputs": [],
   "source": [
    "iowa_liq_sales['Vendor Name'] = iowa_liq_sales['Vendor Name'].str.replace(',','')"
   ]
  },
  {
   "cell_type": "code",
   "execution_count": null,
   "id": "91189232",
   "metadata": {},
   "outputs": [],
   "source": [
    "iowa_liq_sales['Vendor Name'] = iowa_liq_sales['Vendor Name'].str.replace('.','')"
   ]
  },
  {
   "cell_type": "code",
   "execution_count": null,
   "id": "afd8381b",
   "metadata": {},
   "outputs": [],
   "source": [
    "iowa_liq_sales['Vendor Name'] = iowa_liq_sales['Vendor Name'].str.rstrip()"
   ]
  },
  {
   "cell_type": "code",
   "execution_count": null,
   "id": "c70e6e2a",
   "metadata": {},
   "outputs": [],
   "source": [
    "iowa_liq_sales['Vendor Name'] = iowa_liq_sales['Vendor Name'].str.replace('-',' ')"
   ]
  },
  {
   "cell_type": "code",
   "execution_count": null,
   "id": "8fd539a9",
   "metadata": {},
   "outputs": [],
   "source": [
    "iowa_liq_sales['Vendor Name'] = iowa_liq_sales['Vendor Name'].str.replace('&',' AND ')"
   ]
  },
  {
   "cell_type": "code",
   "execution_count": null,
   "id": "25f67883",
   "metadata": {},
   "outputs": [],
   "source": [
    "iowa_liq_sales['Vendor Name'] = iowa_liq_sales['Vendor Name'].str.replace('LTD','')"
   ]
  },
  {
   "cell_type": "code",
   "execution_count": null,
   "id": "85464433",
   "metadata": {},
   "outputs": [],
   "source": [
    "iowa_liq_sales['Vendor Name'] = iowa_liq_sales['Vendor Name'].str.replace('CORPORATION','CORP')"
   ]
  },
  {
   "cell_type": "code",
   "execution_count": null,
   "id": "1f96893d",
   "metadata": {},
   "outputs": [],
   "source": [
    "iowa_liq_sales['Vendor Name'] = iowa_liq_sales['Vendor Name'].str.replace('SAZERAC NORTH AMERICA','SAZERAC COMPANY')"
   ]
  },
  {
   "cell_type": "code",
   "execution_count": null,
   "id": "9eaa8783",
   "metadata": {},
   "outputs": [],
   "source": [
    "iowa_liq_sales['Vendor Name'] = iowa_liq_sales['Vendor Name'].str.replace('/',' AND ')"
   ]
  },
  {
   "cell_type": "code",
   "execution_count": null,
   "id": "3b82392a",
   "metadata": {},
   "outputs": [],
   "source": [
    "iowa_liq_sales['Vendor Name'] = iowa_liq_sales['Vendor Name'].str.replace('  ','')"
   ]
  },
  {
   "cell_type": "code",
   "execution_count": null,
   "id": "520667fc",
   "metadata": {},
   "outputs": [],
   "source": [
    "iowa_liq_sales['Vendor Name'] = iowa_liq_sales['Vendor Name'].str.replace('COMPANY','CORP')"
   ]
  },
  {
   "cell_type": "code",
   "execution_count": null,
   "id": "eb2e6ad5",
   "metadata": {},
   "outputs": [],
   "source": [
    "iowa_liq_sales['Vendor Name'].unique()"
   ]
  },
  {
   "cell_type": "code",
   "execution_count": null,
   "id": "8afce6bc",
   "metadata": {},
   "outputs": [],
   "source": [
    "iowa_liq_sales['Vendor Name'].nunique()"
   ]
  },
  {
   "cell_type": "code",
   "execution_count": null,
   "id": "05013cd9",
   "metadata": {},
   "outputs": [],
   "source": [
    "# ITEM NUMBER\n",
    "\n",
    "# getting rid of a letter\n",
    "iowa_liq_sales['Item Number'] = iowa_liq_sales['Item Number'].str.replace('x904631','904631')"
   ]
  },
  {
   "cell_type": "code",
   "execution_count": null,
   "id": "9c342eae",
   "metadata": {},
   "outputs": [],
   "source": [
    "# changing item number to numeric\n",
    "\n",
    "# error there's a floatna type\n",
    "#iowa_liq_sales['Item Number'] = iowa_liq_sales['Item Number'].astype('int64')"
   ]
  },
  {
   "cell_type": "code",
   "execution_count": null,
   "id": "5fa68100",
   "metadata": {},
   "outputs": [],
   "source": [
    "# remove that one null entry by saving notna values\n",
    "iowa_liq_sales = iowa_liq_sales[iowa_liq_sales['Item Number'].notna()]"
   ]
  },
  {
   "cell_type": "code",
   "execution_count": null,
   "id": "5435a3a5",
   "metadata": {},
   "outputs": [],
   "source": [
    "iowa_liq_sales['Item Number'] = iowa_liq_sales['Item Number'].astype('int64')"
   ]
  },
  {
   "cell_type": "code",
   "execution_count": null,
   "id": "7a501fd6",
   "metadata": {},
   "outputs": [],
   "source": [
    "iowa_liq_sales['Item Number'].nunique()"
   ]
  },
  {
   "cell_type": "code",
   "execution_count": null,
   "id": "99ef4f4e",
   "metadata": {},
   "outputs": [],
   "source": [
    "# ITEM DESCRIPTION\n",
    "\n",
    "iowa_liq_sales['Item Description'].nunique()"
   ]
  },
  {
   "cell_type": "code",
   "execution_count": null,
   "id": "8e881b5b",
   "metadata": {},
   "outputs": [],
   "source": [
    "# BOTTLE VOLUME (mL)\n",
    "iowa_liq_sales['Bottle Volume (ml)'].nunique()"
   ]
  },
  {
   "cell_type": "code",
   "execution_count": null,
   "id": "f961cb01",
   "metadata": {},
   "outputs": [],
   "source": [
    "iowa_liq_sales['Bottle Volume (ml)'].unique()"
   ]
  },
  {
   "cell_type": "code",
   "execution_count": null,
   "id": "6e2aa71c",
   "metadata": {},
   "outputs": [],
   "source": [
    "# STATE BOTTLE COST\n",
    "iowa_liq_sales['State Bottle Cost'].describe()"
   ]
  },
  {
   "cell_type": "code",
   "execution_count": null,
   "id": "18b6218a",
   "metadata": {},
   "outputs": [],
   "source": [
    "# STATE BOTTLE RETAIL\n",
    "iowa_liq_sales['State Bottle Retail'].describe()"
   ]
  },
  {
   "cell_type": "code",
   "execution_count": null,
   "id": "98979fea",
   "metadata": {},
   "outputs": [],
   "source": [
    "iowa_liq_sales['State Bottle Retail'].nunique()"
   ]
  },
  {
   "cell_type": "code",
   "execution_count": null,
   "id": "d779a344",
   "metadata": {},
   "outputs": [],
   "source": [
    "# BOTTLES SOLD\n",
    "iowa_liq_sales['Bottles Sold']"
   ]
  },
  {
   "cell_type": "code",
   "execution_count": null,
   "id": "79d747cd",
   "metadata": {},
   "outputs": [],
   "source": [
    "# SALE (DOLLARS)\n",
    "iowa_liq_sales['Sale (Dollars)']"
   ]
  },
  {
   "cell_type": "code",
   "execution_count": null,
   "id": "7e2ab96c",
   "metadata": {},
   "outputs": [],
   "source": [
    "# VOLUME SOLD (LITERS)\n",
    "iowa_liq_sales['Volume Sold (Liters)'].nunique()"
   ]
  },
  {
   "cell_type": "code",
   "execution_count": null,
   "id": "cd376033",
   "metadata": {},
   "outputs": [],
   "source": [
    "iowa_liq_sales.head()"
   ]
  },
  {
   "cell_type": "code",
   "execution_count": null,
   "id": "ca7dbdb7",
   "metadata": {},
   "outputs": [],
   "source": [
    "# save progress as csv\n",
    "\n",
    "#iowa_liq_sales.to_csv('iowa_clean.csv', index=False)"
   ]
  },
  {
   "cell_type": "code",
   "execution_count": null,
   "id": "75d4b1a4",
   "metadata": {},
   "outputs": [],
   "source": [
    "# create internet sized sample\n",
    "iowa_sample = iowa_liq_sales.sample(1000)"
   ]
  },
  {
   "cell_type": "code",
   "execution_count": null,
   "id": "8fa3acd2",
   "metadata": {},
   "outputs": [],
   "source": [
    "# save the sample as a csv\n",
    "\n",
    "#iowa_sample.to_csv('iowa_sample.csv', index=False)"
   ]
  },
  {
   "cell_type": "code",
   "execution_count": null,
   "id": "d8c0debe",
   "metadata": {},
   "outputs": [],
   "source": []
  }
 ],
 "metadata": {
  "kernelspec": {
   "display_name": "Python 3 (ipykernel)",
   "language": "python",
   "name": "python3"
  },
  "language_info": {
   "codemirror_mode": {
    "name": "ipython",
    "version": 3
   },
   "file_extension": ".py",
   "mimetype": "text/x-python",
   "name": "python",
   "nbconvert_exporter": "python",
   "pygments_lexer": "ipython3",
   "version": "3.8.12"
  }
 },
 "nbformat": 4,
 "nbformat_minor": 5
}
