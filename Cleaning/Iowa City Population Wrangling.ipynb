{
 "cells": [
  {
   "cell_type": "code",
   "execution_count": 15,
   "id": "b53b626f",
   "metadata": {},
   "outputs": [],
   "source": [
    "import pandas as pd\n",
    "from datetime import datetime"
   ]
  },
  {
   "cell_type": "code",
   "execution_count": 16,
   "id": "91aa6cc3",
   "metadata": {},
   "outputs": [],
   "source": [
    "### \"https://data.iowa.gov/Community-Demographics/Total-City-Population-by-Year/acem-thbp\"\n",
    "# iowa city population by year\n",
    "\n",
    "pop = pd.read_csv('City_Population_in_Iowa_by_County_and_Year.csv')"
   ]
  },
  {
   "cell_type": "code",
   "execution_count": 17,
   "id": "0ee49573",
   "metadata": {},
   "outputs": [
    {
     "data": {
      "text/html": [
       "<div>\n",
       "<style scoped>\n",
       "    .dataframe tbody tr th:only-of-type {\n",
       "        vertical-align: middle;\n",
       "    }\n",
       "\n",
       "    .dataframe tbody tr th {\n",
       "        vertical-align: top;\n",
       "    }\n",
       "\n",
       "    .dataframe thead th {\n",
       "        text-align: right;\n",
       "    }\n",
       "</style>\n",
       "<table border=\"1\" class=\"dataframe\">\n",
       "  <thead>\n",
       "    <tr style=\"text-align: right;\">\n",
       "      <th></th>\n",
       "      <th>FIPS</th>\n",
       "      <th>County</th>\n",
       "      <th>City</th>\n",
       "      <th>Year</th>\n",
       "      <th>Estimate</th>\n",
       "      <th>Primary Point</th>\n",
       "    </tr>\n",
       "  </thead>\n",
       "  <tbody>\n",
       "    <tr>\n",
       "      <th>0</th>\n",
       "      <td>1999990</td>\n",
       "      <td>Audubon</td>\n",
       "      <td>Balance of Audubon County</td>\n",
       "      <td>July 01 2012</td>\n",
       "      <td>2517.0</td>\n",
       "      <td>NaN</td>\n",
       "    </tr>\n",
       "    <tr>\n",
       "      <th>1</th>\n",
       "      <td>1999990</td>\n",
       "      <td>Butler</td>\n",
       "      <td>Balance of Butler County</td>\n",
       "      <td>July 01 2017</td>\n",
       "      <td>5523.0</td>\n",
       "      <td>NaN</td>\n",
       "    </tr>\n",
       "    <tr>\n",
       "      <th>2</th>\n",
       "      <td>1999990</td>\n",
       "      <td>Chickasaw</td>\n",
       "      <td>Balance of Chickasaw County</td>\n",
       "      <td>July 01 2018</td>\n",
       "      <td>4896.0</td>\n",
       "      <td>NaN</td>\n",
       "    </tr>\n",
       "    <tr>\n",
       "      <th>3</th>\n",
       "      <td>1999990</td>\n",
       "      <td>Decatur</td>\n",
       "      <td>Balance of Decatur County</td>\n",
       "      <td>July 01 2011</td>\n",
       "      <td>2799.0</td>\n",
       "      <td>NaN</td>\n",
       "    </tr>\n",
       "    <tr>\n",
       "      <th>4</th>\n",
       "      <td>1999990</td>\n",
       "      <td>Des Moines</td>\n",
       "      <td>Balance of Des Moines County</td>\n",
       "      <td>April 01 2010</td>\n",
       "      <td>8882.0</td>\n",
       "      <td>NaN</td>\n",
       "    </tr>\n",
       "  </tbody>\n",
       "</table>\n",
       "</div>"
      ],
      "text/plain": [
       "      FIPS      County                          City           Year  Estimate  \\\n",
       "0  1999990     Audubon     Balance of Audubon County   July 01 2012    2517.0   \n",
       "1  1999990      Butler      Balance of Butler County   July 01 2017    5523.0   \n",
       "2  1999990   Chickasaw   Balance of Chickasaw County   July 01 2018    4896.0   \n",
       "3  1999990     Decatur     Balance of Decatur County   July 01 2011    2799.0   \n",
       "4  1999990  Des Moines  Balance of Des Moines County  April 01 2010    8882.0   \n",
       "\n",
       "  Primary Point  \n",
       "0           NaN  \n",
       "1           NaN  \n",
       "2           NaN  \n",
       "3           NaN  \n",
       "4           NaN  "
      ]
     },
     "execution_count": 17,
     "metadata": {},
     "output_type": "execute_result"
    }
   ],
   "source": [
    "# take a peek\n",
    "pop.head()"
   ]
  },
  {
   "cell_type": "code",
   "execution_count": 18,
   "id": "c4374e90",
   "metadata": {},
   "outputs": [
    {
     "name": "stdout",
     "output_type": "stream",
     "text": [
      "<class 'pandas.core.frame.DataFrame'>\n",
      "RangeIndex: 12264 entries, 0 to 12263\n",
      "Data columns (total 6 columns):\n",
      " #   Column         Non-Null Count  Dtype  \n",
      "---  ------         --------------  -----  \n",
      " 0   FIPS           12264 non-null  int64  \n",
      " 1   County         12264 non-null  object \n",
      " 2   City           12264 non-null  object \n",
      " 3   Year           12264 non-null  object \n",
      " 4   Estimate       12259 non-null  float64\n",
      " 5   Primary Point  11164 non-null  object \n",
      "dtypes: float64(1), int64(1), object(4)\n",
      "memory usage: 575.0+ KB\n"
     ]
    }
   ],
   "source": [
    "# further look\n",
    "pop.info()"
   ]
  },
  {
   "cell_type": "code",
   "execution_count": 19,
   "id": "4b9ededf",
   "metadata": {},
   "outputs": [],
   "source": [
    "# unneeded column\n",
    "pop = pop.drop(columns='FIPS')"
   ]
  },
  {
   "cell_type": "code",
   "execution_count": 20,
   "id": "4c5786f9",
   "metadata": {},
   "outputs": [],
   "source": [
    "# change county name to match county name in liquor sales dataframe\n",
    "# capitalize entries\n",
    "pop['County'] = pop['County'].str.upper()"
   ]
  },
  {
   "cell_type": "code",
   "execution_count": 21,
   "id": "6c6ec352",
   "metadata": {},
   "outputs": [
    {
     "data": {
      "text/plain": [
       "99"
      ]
     },
     "execution_count": 21,
     "metadata": {},
     "output_type": "execute_result"
    }
   ],
   "source": [
    "# there are 99 counties in Iowa\n",
    "pop['County'].nunique()"
   ]
  },
  {
   "cell_type": "code",
   "execution_count": 22,
   "id": "40949151",
   "metadata": {},
   "outputs": [],
   "source": [
    "# year column has more information than just year\n",
    "pop = pop.rename(columns=({'Year' : 'Date'}))"
   ]
  },
  {
   "cell_type": "code",
   "execution_count": 23,
   "id": "d505f6b4",
   "metadata": {},
   "outputs": [
    {
     "data": {
      "text/html": [
       "<div>\n",
       "<style scoped>\n",
       "    .dataframe tbody tr th:only-of-type {\n",
       "        vertical-align: middle;\n",
       "    }\n",
       "\n",
       "    .dataframe tbody tr th {\n",
       "        vertical-align: top;\n",
       "    }\n",
       "\n",
       "    .dataframe thead th {\n",
       "        text-align: right;\n",
       "    }\n",
       "</style>\n",
       "<table border=\"1\" class=\"dataframe\">\n",
       "  <thead>\n",
       "    <tr style=\"text-align: right;\">\n",
       "      <th></th>\n",
       "      <th>County</th>\n",
       "      <th>City</th>\n",
       "      <th>Date</th>\n",
       "      <th>Estimate</th>\n",
       "      <th>Primary Point</th>\n",
       "    </tr>\n",
       "  </thead>\n",
       "  <tbody>\n",
       "    <tr>\n",
       "      <th>0</th>\n",
       "      <td>AUDUBON</td>\n",
       "      <td>Balance of Audubon County</td>\n",
       "      <td>July 01 2012</td>\n",
       "      <td>2517.0</td>\n",
       "      <td>NaN</td>\n",
       "    </tr>\n",
       "    <tr>\n",
       "      <th>1</th>\n",
       "      <td>BUTLER</td>\n",
       "      <td>Balance of Butler County</td>\n",
       "      <td>July 01 2017</td>\n",
       "      <td>5523.0</td>\n",
       "      <td>NaN</td>\n",
       "    </tr>\n",
       "    <tr>\n",
       "      <th>2</th>\n",
       "      <td>CHICKASAW</td>\n",
       "      <td>Balance of Chickasaw County</td>\n",
       "      <td>July 01 2018</td>\n",
       "      <td>4896.0</td>\n",
       "      <td>NaN</td>\n",
       "    </tr>\n",
       "    <tr>\n",
       "      <th>3</th>\n",
       "      <td>DECATUR</td>\n",
       "      <td>Balance of Decatur County</td>\n",
       "      <td>July 01 2011</td>\n",
       "      <td>2799.0</td>\n",
       "      <td>NaN</td>\n",
       "    </tr>\n",
       "    <tr>\n",
       "      <th>4</th>\n",
       "      <td>DES MOINES</td>\n",
       "      <td>Balance of Des Moines County</td>\n",
       "      <td>April 01 2010</td>\n",
       "      <td>8882.0</td>\n",
       "      <td>NaN</td>\n",
       "    </tr>\n",
       "  </tbody>\n",
       "</table>\n",
       "</div>"
      ],
      "text/plain": [
       "       County                          City           Date  Estimate  \\\n",
       "0     AUDUBON     Balance of Audubon County   July 01 2012    2517.0   \n",
       "1      BUTLER      Balance of Butler County   July 01 2017    5523.0   \n",
       "2   CHICKASAW   Balance of Chickasaw County   July 01 2018    4896.0   \n",
       "3     DECATUR     Balance of Decatur County   July 01 2011    2799.0   \n",
       "4  DES MOINES  Balance of Des Moines County  April 01 2010    8882.0   \n",
       "\n",
       "  Primary Point  \n",
       "0           NaN  \n",
       "1           NaN  \n",
       "2           NaN  \n",
       "3           NaN  \n",
       "4           NaN  "
      ]
     },
     "execution_count": 23,
     "metadata": {},
     "output_type": "execute_result"
    }
   ],
   "source": [
    "pop.head()"
   ]
  },
  {
   "cell_type": "code",
   "execution_count": 24,
   "id": "536ac95e",
   "metadata": {},
   "outputs": [],
   "source": [
    "# convert date to datetime object\n",
    "pop['Date'] = pd.to_datetime(pop['Date'])"
   ]
  },
  {
   "cell_type": "code",
   "execution_count": 25,
   "id": "c51b71d5",
   "metadata": {},
   "outputs": [
    {
     "name": "stdout",
     "output_type": "stream",
     "text": [
      "<class 'pandas.core.frame.DataFrame'>\n",
      "RangeIndex: 12264 entries, 0 to 12263\n",
      "Data columns (total 5 columns):\n",
      " #   Column         Non-Null Count  Dtype         \n",
      "---  ------         --------------  -----         \n",
      " 0   County         12264 non-null  object        \n",
      " 1   City           12264 non-null  object        \n",
      " 2   Date           12264 non-null  datetime64[ns]\n",
      " 3   Estimate       12259 non-null  float64       \n",
      " 4   Primary Point  11164 non-null  object        \n",
      "dtypes: datetime64[ns](1), float64(1), object(3)\n",
      "memory usage: 479.2+ KB\n"
     ]
    }
   ],
   "source": [
    "pop.info()"
   ]
  },
  {
   "cell_type": "code",
   "execution_count": 26,
   "id": "8bdd6a84",
   "metadata": {},
   "outputs": [],
   "source": [
    "# change county name to match county name in liquor sales dataframe\n",
    "# capitalize entries\n",
    "pop['City'] = pop['City'].str.upper()"
   ]
  },
  {
   "cell_type": "code",
   "execution_count": 27,
   "id": "55847178",
   "metadata": {},
   "outputs": [],
   "source": [
    "pop.to_csv('iowa_population.csv', index=False)"
   ]
  },
  {
   "cell_type": "code",
   "execution_count": null,
   "id": "0d735297",
   "metadata": {},
   "outputs": [],
   "source": []
  }
 ],
 "metadata": {
  "kernelspec": {
   "display_name": "Python 3 (ipykernel)",
   "language": "python",
   "name": "python3"
  },
  "language_info": {
   "codemirror_mode": {
    "name": "ipython",
    "version": 3
   },
   "file_extension": ".py",
   "mimetype": "text/x-python",
   "name": "python",
   "nbconvert_exporter": "python",
   "pygments_lexer": "ipython3",
   "version": "3.8.12"
  }
 },
 "nbformat": 4,
 "nbformat_minor": 5
}
