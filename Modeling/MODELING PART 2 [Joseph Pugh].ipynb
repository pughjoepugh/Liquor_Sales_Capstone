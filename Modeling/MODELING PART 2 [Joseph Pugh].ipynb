{
 "cells": [
  {
   "cell_type": "markdown",
   "id": "2d490b43",
   "metadata": {},
   "source": [
    "# MODELING PART 2: Supervised"
   ]
  },
  {
   "cell_type": "markdown",
   "id": "486d8f5c",
   "metadata": {},
   "source": [
    "Part 2 takes the dataframe with the addition of cluster variance column from part 1.\n",
    "Now we will run a classification model to determine new stores which would be good candidates for carrying and selling Mezcal products. "
   ]
  },
  {
   "cell_type": "markdown",
   "id": "89ad3670",
   "metadata": {},
   "source": [
    "### Steps:\n",
    "1. libraries / visualize where we left off\n",
    "2. Create the train test split for classification\n",
    "3. Standard scale the new 'var' column\n",
    "4. Random Forest Regression, to see which ranking column, Ordinal or total ranking is better understood\n",
    "5. Create a classification target column\n",
    "6. Classification models"
   ]
  },
  {
   "cell_type": "markdown",
   "id": "fcfa7b5c",
   "metadata": {},
   "source": [
    "### 1. Import libraries"
   ]
  },
  {
   "cell_type": "code",
   "execution_count": 3,
   "id": "36b7352a",
   "metadata": {},
   "outputs": [],
   "source": [
    "import pandas as pd\n",
    "import numpy as np\n",
    "\n",
    "from sklearn.preprocessing import StandardScaler\n",
    "from sklearn.model_selection import train_test_split, cross_val_score, RepeatedStratifiedKFold\n",
    "from sklearn.ensemble import RandomForestRegressor, RandomForestClassifier\n",
    "from sklearn import metrics\n",
    "\n",
    "pd.set_option(\"display.max_rows\", 999)"
   ]
  },
  {
   "cell_type": "code",
   "execution_count": 4,
   "id": "edc03d32",
   "metadata": {},
   "outputs": [],
   "source": [
    "# load data\n",
    "iowa = pd.read_csv('iowa_model_part_1.csv')"
   ]
  },
  {
   "cell_type": "code",
   "execution_count": 5,
   "id": "00c79a2b",
   "metadata": {},
   "outputs": [
    {
     "data": {
      "text/html": [
       "<div>\n",
       "<style scoped>\n",
       "    .dataframe tbody tr th:only-of-type {\n",
       "        vertical-align: middle;\n",
       "    }\n",
       "\n",
       "    .dataframe tbody tr th {\n",
       "        vertical-align: top;\n",
       "    }\n",
       "\n",
       "    .dataframe thead th {\n",
       "        text-align: right;\n",
       "    }\n",
       "</style>\n",
       "<table border=\"1\" class=\"dataframe\">\n",
       "  <thead>\n",
       "    <tr style=\"text-align: right;\">\n",
       "      <th></th>\n",
       "      <th>Store Name</th>\n",
       "      <th>Address</th>\n",
       "      <th>City</th>\n",
       "      <th>Zip Code</th>\n",
       "      <th>County</th>\n",
       "      <th>Category Name</th>\n",
       "      <th>Bottle Price Category</th>\n",
       "      <th>Category Name_BOURBON WHISKY</th>\n",
       "      <th>Category Name_BRANDY</th>\n",
       "      <th>Category Name_CANADIAN WHISKY</th>\n",
       "      <th>...</th>\n",
       "      <th>Sale (Dollars)</th>\n",
       "      <th>Volume Sold (Liters)</th>\n",
       "      <th>Profit / Item</th>\n",
       "      <th>Profit / Invoice</th>\n",
       "      <th>Profit / ml</th>\n",
       "      <th>Retail Price / ml</th>\n",
       "      <th>total_ranking</th>\n",
       "      <th>OE_BPC</th>\n",
       "      <th>OE_ranking</th>\n",
       "      <th>var</th>\n",
       "    </tr>\n",
       "  </thead>\n",
       "  <tbody>\n",
       "    <tr>\n",
       "      <th>0</th>\n",
       "      <td>1st stop beverage shop</td>\n",
       "      <td>2839 East University Ave.</td>\n",
       "      <td>DES MOINES</td>\n",
       "      <td>50317</td>\n",
       "      <td>POLK</td>\n",
       "      <td>BOURBON WHISKY</td>\n",
       "      <td>Expensive</td>\n",
       "      <td>0.0</td>\n",
       "      <td>0.0</td>\n",
       "      <td>0.0</td>\n",
       "      <td>...</td>\n",
       "      <td>-0.162803</td>\n",
       "      <td>-0.161489</td>\n",
       "      <td>2.252836</td>\n",
       "      <td>-0.061991</td>\n",
       "      <td>0.44692</td>\n",
       "      <td>0.447108</td>\n",
       "      <td>1681.0</td>\n",
       "      <td>2.0</td>\n",
       "      <td>35.0</td>\n",
       "      <td>291.719966</td>\n",
       "    </tr>\n",
       "    <tr>\n",
       "      <th>1</th>\n",
       "      <td>1st stop beverage shop</td>\n",
       "      <td>2839 East University Ave.</td>\n",
       "      <td>DES MOINES</td>\n",
       "      <td>50317</td>\n",
       "      <td>POLK</td>\n",
       "      <td>BOURBON WHISKY</td>\n",
       "      <td>Expensive</td>\n",
       "      <td>0.0</td>\n",
       "      <td>0.0</td>\n",
       "      <td>0.0</td>\n",
       "      <td>...</td>\n",
       "      <td>-0.156890</td>\n",
       "      <td>-0.160950</td>\n",
       "      <td>2.465500</td>\n",
       "      <td>-0.046327</td>\n",
       "      <td>0.50736</td>\n",
       "      <td>0.507549</td>\n",
       "      <td>1681.0</td>\n",
       "      <td>2.0</td>\n",
       "      <td>35.0</td>\n",
       "      <td>291.719966</td>\n",
       "    </tr>\n",
       "  </tbody>\n",
       "</table>\n",
       "<p>2 rows × 96 columns</p>\n",
       "</div>"
      ],
      "text/plain": [
       "               Store Name                    Address        City  Zip Code  \\\n",
       "0  1st stop beverage shop  2839 East University Ave.  DES MOINES     50317   \n",
       "1  1st stop beverage shop  2839 East University Ave.  DES MOINES     50317   \n",
       "\n",
       "  County   Category Name Bottle Price Category  Category Name_BOURBON WHISKY  \\\n",
       "0   POLK  BOURBON WHISKY             Expensive                           0.0   \n",
       "1   POLK  BOURBON WHISKY             Expensive                           0.0   \n",
       "\n",
       "   Category Name_BRANDY  Category Name_CANADIAN WHISKY  ...  Sale (Dollars)  \\\n",
       "0                   0.0                            0.0  ...       -0.162803   \n",
       "1                   0.0                            0.0  ...       -0.156890   \n",
       "\n",
       "   Volume Sold (Liters)  Profit / Item  Profit / Invoice  Profit / ml  \\\n",
       "0             -0.161489       2.252836         -0.061991      0.44692   \n",
       "1             -0.160950       2.465500         -0.046327      0.50736   \n",
       "\n",
       "   Retail Price / ml  total_ranking  OE_BPC  OE_ranking         var  \n",
       "0           0.447108         1681.0     2.0        35.0  291.719966  \n",
       "1           0.507549         1681.0     2.0        35.0  291.719966  \n",
       "\n",
       "[2 rows x 96 columns]"
      ]
     },
     "execution_count": 5,
     "metadata": {},
     "output_type": "execute_result"
    }
   ],
   "source": [
    "iowa.head(2)"
   ]
  },
  {
   "cell_type": "markdown",
   "id": "86f105ab",
   "metadata": {},
   "source": [
    "### 2. Train Test Split"
   ]
  },
  {
   "cell_type": "code",
   "execution_count": 6,
   "id": "394d9ff0",
   "metadata": {},
   "outputs": [],
   "source": [
    "# keep just the modeling columns\n",
    "iowa_df = iowa.iloc[:,7:]"
   ]
  },
  {
   "cell_type": "code",
   "execution_count": 7,
   "id": "c0822635",
   "metadata": {},
   "outputs": [],
   "source": [
    "# create X and y for \n",
    "\n",
    "# dependent variable\n",
    "total_y = iowa_df['total_ranking']\n",
    "OE_y = iowa_df['OE_ranking']\n",
    "\n",
    "# independent variable\n",
    "iowa_X = iowa_df.drop(columns=['total_ranking', 'OE_ranking'])"
   ]
  },
  {
   "cell_type": "markdown",
   "id": "f4c03db8",
   "metadata": {},
   "source": [
    "#### Total ranking as the target"
   ]
  },
  {
   "cell_type": "code",
   "execution_count": 11,
   "id": "48bf1d34",
   "metadata": {},
   "outputs": [],
   "source": [
    "# Total ranking \n",
    "# split into a training and testing data sets.\n",
    "\n",
    "total_X_train, total_X_test, total_y_train, total_y_test = train_test_split(iowa_X, total_y, test_size = 0.2, random_state=99)"
   ]
  },
  {
   "cell_type": "markdown",
   "id": "c3c8262e",
   "metadata": {},
   "source": [
    "#### Ordinal ranking as the target"
   ]
  },
  {
   "cell_type": "code",
   "execution_count": 12,
   "id": "7dff1c52",
   "metadata": {},
   "outputs": [],
   "source": [
    "# Ordinal Ranking\n",
    "# split into a training and testing data sets.\n",
    "\n",
    "OE_X_train, OE_X_test, OE_y_train, OE_y_test = train_test_split(iowa_X, OE_y, test_size = 0.2, random_state=99)"
   ]
  },
  {
   "cell_type": "markdown",
   "id": "8a0a79ad",
   "metadata": {},
   "source": [
    "#### Create a reference X_test.\n",
    "\n",
    "This is so we have the correct store names for learning from our models output"
   ]
  },
  {
   "cell_type": "code",
   "execution_count": 13,
   "id": "e086a098",
   "metadata": {},
   "outputs": [],
   "source": [
    "# create an original X_test to match results\n",
    "# keep all setting the same, except use the original df with store names and rankings\n",
    "\n",
    "_, reference_test, _, _ = train_test_split(iowa, OE_y, test_size = 0.2, random_state=99)"
   ]
  },
  {
   "cell_type": "markdown",
   "id": "7cc07958",
   "metadata": {},
   "source": [
    "### 3. Standard Scaler\n",
    "\n",
    "Most of the columns were scaled during the Part 1 for clustering. We now need to scale our newest feature 'var'. The variance in store cluster labels."
   ]
  },
  {
   "cell_type": "code",
   "execution_count": 14,
   "id": "3e703bbc",
   "metadata": {},
   "outputs": [],
   "source": [
    "# we need to scale the 'var' column\n",
    "\n",
    "# assign the standard scaler to a variable\n",
    "scaler = StandardScaler()\n",
    "\n",
    "#fit the scaler ON ONLY THE TRAINING SET also the var column is the same for both OE and total\n",
    "scaler.fit(total_X_train[['var']])\n",
    "\n",
    "# process both the test and train data through the standard scaler\n",
    "# assigning them to new variables\n",
    "\n",
    "total_X_train['var'] = scaler.transform(total_X_train[['var']])\n",
    "\n",
    "OE_X_train['var'] = scaler.transform(OE_X_train[['var']])\n",
    "\n",
    "total_X_test['var'] = scaler.transform(total_X_test[['var']])\n",
    "\n",
    "OE_X_test['var'] = scaler.transform(OE_X_test[['var']])"
   ]
  },
  {
   "cell_type": "markdown",
   "id": "1bff8339",
   "metadata": {},
   "source": [
    "### 4. Random Forest Regressor"
   ]
  },
  {
   "cell_type": "code",
   "execution_count": 15,
   "id": "dce54956",
   "metadata": {},
   "outputs": [
    {
     "data": {
      "text/plain": [
       "RandomForestRegressor(random_state=55)"
      ]
     },
     "execution_count": 15,
     "metadata": {},
     "output_type": "execute_result"
    }
   ],
   "source": [
    "# Random Forest Regressor for total ranking\n",
    "\n",
    "clf = RandomForestRegressor(random_state=55)\n",
    "clf.fit(total_X_train, total_y_train)"
   ]
  },
  {
   "cell_type": "code",
   "execution_count": 16,
   "id": "887d3587",
   "metadata": {},
   "outputs": [],
   "source": [
    "y_pred = clf.predict(total_X_test)"
   ]
  },
  {
   "cell_type": "code",
   "execution_count": 17,
   "id": "9e8ac1aa",
   "metadata": {},
   "outputs": [
    {
     "data": {
      "text/plain": [
       "0.9996813194241374"
      ]
     },
     "execution_count": 17,
     "metadata": {},
     "output_type": "execute_result"
    }
   ],
   "source": [
    "# quick r2 metric, how good is the fit\n",
    "clf.score(total_X_test, total_y_test)"
   ]
  },
  {
   "cell_type": "code",
   "execution_count": 18,
   "id": "3d503186",
   "metadata": {},
   "outputs": [],
   "source": [
    "# store the results\n",
    "\n",
    "# get the indexes to match\n",
    "reference_test = reference_test.reset_index()\n",
    "\n",
    "# create column to store the corresponding results\n",
    "reference_test['total_pred'] = pd.DataFrame(y_pred)"
   ]
  },
  {
   "cell_type": "code",
   "execution_count": 19,
   "id": "79a74691",
   "metadata": {},
   "outputs": [
    {
     "data": {
      "text/html": [
       "<div>\n",
       "<style scoped>\n",
       "    .dataframe tbody tr th:only-of-type {\n",
       "        vertical-align: middle;\n",
       "    }\n",
       "\n",
       "    .dataframe tbody tr th {\n",
       "        vertical-align: top;\n",
       "    }\n",
       "\n",
       "    .dataframe thead th {\n",
       "        text-align: right;\n",
       "    }\n",
       "</style>\n",
       "<table border=\"1\" class=\"dataframe\">\n",
       "  <thead>\n",
       "    <tr style=\"text-align: right;\">\n",
       "      <th></th>\n",
       "      <th>Store Name</th>\n",
       "      <th>total_ranking</th>\n",
       "      <th>total_pred</th>\n",
       "    </tr>\n",
       "  </thead>\n",
       "  <tbody>\n",
       "    <tr>\n",
       "      <th>0</th>\n",
       "      <td>Costco wholesale #788 / wdm</td>\n",
       "      <td>66049.0</td>\n",
       "      <td>66049.0</td>\n",
       "    </tr>\n",
       "    <tr>\n",
       "      <th>1</th>\n",
       "      <td>Hy-vee wine and spirits / hubbell</td>\n",
       "      <td>66049.0</td>\n",
       "      <td>66049.0</td>\n",
       "    </tr>\n",
       "    <tr>\n",
       "      <th>2</th>\n",
       "      <td>Central city 2</td>\n",
       "      <td>6.5</td>\n",
       "      <td>6.5</td>\n",
       "    </tr>\n",
       "    <tr>\n",
       "      <th>3</th>\n",
       "      <td>Super quick mart / windsor heights</td>\n",
       "      <td>368.0</td>\n",
       "      <td>368.0</td>\n",
       "    </tr>\n",
       "    <tr>\n",
       "      <th>4</th>\n",
       "      <td>Family pantry</td>\n",
       "      <td>6228.0</td>\n",
       "      <td>6228.0</td>\n",
       "    </tr>\n",
       "    <tr>\n",
       "      <th>...</th>\n",
       "      <td>...</td>\n",
       "      <td>...</td>\n",
       "      <td>...</td>\n",
       "    </tr>\n",
       "    <tr>\n",
       "      <th>45006</th>\n",
       "      <td>Urban liquor</td>\n",
       "      <td>66049.0</td>\n",
       "      <td>66049.0</td>\n",
       "    </tr>\n",
       "    <tr>\n",
       "      <th>45007</th>\n",
       "      <td>Shop n save #2 / e 14th</td>\n",
       "      <td>66049.0</td>\n",
       "      <td>66049.0</td>\n",
       "    </tr>\n",
       "    <tr>\n",
       "      <th>45008</th>\n",
       "      <td>Fareway stores #167/johnston</td>\n",
       "      <td>66049.0</td>\n",
       "      <td>66049.0</td>\n",
       "    </tr>\n",
       "    <tr>\n",
       "      <th>45009</th>\n",
       "      <td>Kum &amp; go #572 / urbandale</td>\n",
       "      <td>66049.0</td>\n",
       "      <td>66049.0</td>\n",
       "    </tr>\n",
       "    <tr>\n",
       "      <th>45010</th>\n",
       "      <td>Hy-vee food store #5 / des moines</td>\n",
       "      <td>539.0</td>\n",
       "      <td>539.0</td>\n",
       "    </tr>\n",
       "  </tbody>\n",
       "</table>\n",
       "<p>45011 rows × 3 columns</p>\n",
       "</div>"
      ],
      "text/plain": [
       "                               Store Name  total_ranking  total_pred\n",
       "0             Costco wholesale #788 / wdm        66049.0     66049.0\n",
       "1       Hy-vee wine and spirits / hubbell        66049.0     66049.0\n",
       "2                          Central city 2            6.5         6.5\n",
       "3      Super quick mart / windsor heights          368.0       368.0\n",
       "4                           Family pantry         6228.0      6228.0\n",
       "...                                   ...            ...         ...\n",
       "45006                        Urban liquor        66049.0     66049.0\n",
       "45007             Shop n save #2 / e 14th        66049.0     66049.0\n",
       "45008        Fareway stores #167/johnston        66049.0     66049.0\n",
       "45009           Kum & go #572 / urbandale        66049.0     66049.0\n",
       "45010   Hy-vee food store #5 / des moines          539.0       539.0\n",
       "\n",
       "[45011 rows x 3 columns]"
      ]
     },
     "execution_count": 19,
     "metadata": {},
     "output_type": "execute_result"
    }
   ],
   "source": [
    "reference_test[['Store Name', 'total_ranking', 'total_pred']]"
   ]
  },
  {
   "cell_type": "markdown",
   "id": "7da6f961",
   "metadata": {},
   "source": [
    " - Like we expect the r2 was almost 1 so the predictions were correct"
   ]
  },
  {
   "cell_type": "markdown",
   "id": "fd011d95",
   "metadata": {},
   "source": [
    "### Random Forest reg with OE"
   ]
  },
  {
   "cell_type": "code",
   "execution_count": 20,
   "id": "80c8bb91",
   "metadata": {},
   "outputs": [
    {
     "data": {
      "text/plain": [
       "RandomForestRegressor(random_state=55)"
      ]
     },
     "execution_count": 20,
     "metadata": {},
     "output_type": "execute_result"
    }
   ],
   "source": [
    "# run the model with ordinal rankings\n",
    "oe_clf = RandomForestRegressor(random_state=55)\n",
    "oe_clf.fit(OE_X_train, OE_y_train)"
   ]
  },
  {
   "cell_type": "code",
   "execution_count": 21,
   "id": "2325af7a",
   "metadata": {},
   "outputs": [],
   "source": [
    "oe_y_pred = oe_clf.predict(OE_X_test)"
   ]
  },
  {
   "cell_type": "code",
   "execution_count": 22,
   "id": "67022bab",
   "metadata": {},
   "outputs": [
    {
     "data": {
      "text/plain": [
       "0.9994556783414396"
      ]
     },
     "execution_count": 22,
     "metadata": {},
     "output_type": "execute_result"
    }
   ],
   "source": [
    "# quick r2 metric, how good is the fit\n",
    "oe_clf.score(OE_X_test, OE_y_test)"
   ]
  },
  {
   "cell_type": "markdown",
   "id": "36bd61fc",
   "metadata": {},
   "source": [
    "- slightly worse r2"
   ]
  },
  {
   "cell_type": "code",
   "execution_count": 23,
   "id": "14fe67ff",
   "metadata": {},
   "outputs": [],
   "source": [
    "OE_test = pd.DataFrame(oe_y_pred)"
   ]
  },
  {
   "cell_type": "code",
   "execution_count": 24,
   "id": "a93f5d4b",
   "metadata": {},
   "outputs": [],
   "source": [
    "reference_test['oe_pred'] = OE_test"
   ]
  },
  {
   "cell_type": "code",
   "execution_count": 25,
   "id": "06f91c7b",
   "metadata": {},
   "outputs": [
    {
     "data": {
      "text/html": [
       "<div>\n",
       "<style scoped>\n",
       "    .dataframe tbody tr th:only-of-type {\n",
       "        vertical-align: middle;\n",
       "    }\n",
       "\n",
       "    .dataframe tbody tr th {\n",
       "        vertical-align: top;\n",
       "    }\n",
       "\n",
       "    .dataframe thead th {\n",
       "        text-align: right;\n",
       "    }\n",
       "</style>\n",
       "<table border=\"1\" class=\"dataframe\">\n",
       "  <thead>\n",
       "    <tr style=\"text-align: right;\">\n",
       "      <th></th>\n",
       "      <th>index</th>\n",
       "      <th>Store Name</th>\n",
       "      <th>Address</th>\n",
       "      <th>City</th>\n",
       "      <th>Zip Code</th>\n",
       "      <th>County</th>\n",
       "      <th>Category Name</th>\n",
       "      <th>Bottle Price Category</th>\n",
       "      <th>Category Name_BOURBON WHISKY</th>\n",
       "      <th>Category Name_BRANDY</th>\n",
       "      <th>...</th>\n",
       "      <th>Profit / Item</th>\n",
       "      <th>Profit / Invoice</th>\n",
       "      <th>Profit / ml</th>\n",
       "      <th>Retail Price / ml</th>\n",
       "      <th>total_ranking</th>\n",
       "      <th>OE_BPC</th>\n",
       "      <th>OE_ranking</th>\n",
       "      <th>var</th>\n",
       "      <th>total_pred</th>\n",
       "      <th>oe_pred</th>\n",
       "    </tr>\n",
       "  </thead>\n",
       "  <tbody>\n",
       "    <tr>\n",
       "      <th>0</th>\n",
       "      <td>31645</td>\n",
       "      <td>Costco wholesale #788 / wdm</td>\n",
       "      <td>7205 MILLS CIVIC PKWY</td>\n",
       "      <td>WEST DES MOINES</td>\n",
       "      <td>50266</td>\n",
       "      <td>DALLAS</td>\n",
       "      <td>SPECIAL PACKAGING</td>\n",
       "      <td>Normal</td>\n",
       "      <td>0.0</td>\n",
       "      <td>0.0</td>\n",
       "      <td>...</td>\n",
       "      <td>0.228513</td>\n",
       "      <td>10.085250</td>\n",
       "      <td>-0.178966</td>\n",
       "      <td>-0.178824</td>\n",
       "      <td>66049.0</td>\n",
       "      <td>1.0</td>\n",
       "      <td>67.0</td>\n",
       "      <td>541.867216</td>\n",
       "      <td>66049.0</td>\n",
       "      <td>67.0</td>\n",
       "    </tr>\n",
       "    <tr>\n",
       "      <th>1</th>\n",
       "      <td>105022</td>\n",
       "      <td>Hy-vee wine and spirits / hubbell</td>\n",
       "      <td>2310 HUBBELL AVE</td>\n",
       "      <td>DES MOINES</td>\n",
       "      <td>50317</td>\n",
       "      <td>POLK</td>\n",
       "      <td>SPECIAL PACKAGING</td>\n",
       "      <td>Inexpensive</td>\n",
       "      <td>0.0</td>\n",
       "      <td>1.0</td>\n",
       "      <td>...</td>\n",
       "      <td>-0.168181</td>\n",
       "      <td>-0.080368</td>\n",
       "      <td>-0.241143</td>\n",
       "      <td>-0.240990</td>\n",
       "      <td>66049.0</td>\n",
       "      <td>0.0</td>\n",
       "      <td>67.0</td>\n",
       "      <td>230.408432</td>\n",
       "      <td>66049.0</td>\n",
       "      <td>67.0</td>\n",
       "    </tr>\n",
       "    <tr>\n",
       "      <th>2</th>\n",
       "      <td>28056</td>\n",
       "      <td>Central city 2</td>\n",
       "      <td>1501 MICHIGAN AVE</td>\n",
       "      <td>DES MOINES</td>\n",
       "      <td>50314</td>\n",
       "      <td>POLK</td>\n",
       "      <td>SPECIAL PACKAGING</td>\n",
       "      <td>Normal</td>\n",
       "      <td>0.0</td>\n",
       "      <td>0.0</td>\n",
       "      <td>...</td>\n",
       "      <td>0.064743</td>\n",
       "      <td>0.138905</td>\n",
       "      <td>-0.171151</td>\n",
       "      <td>-0.170999</td>\n",
       "      <td>6.5</td>\n",
       "      <td>1.0</td>\n",
       "      <td>2.0</td>\n",
       "      <td>428.946708</td>\n",
       "      <td>6.5</td>\n",
       "      <td>2.0</td>\n",
       "    </tr>\n",
       "    <tr>\n",
       "      <th>3</th>\n",
       "      <td>188660</td>\n",
       "      <td>Super quick mart / windsor heights</td>\n",
       "      <td>7690 Hickman Rd</td>\n",
       "      <td>WINDSOR HEIGHTS</td>\n",
       "      <td>50324</td>\n",
       "      <td>POLK</td>\n",
       "      <td>VODKA</td>\n",
       "      <td>Normal</td>\n",
       "      <td>0.0</td>\n",
       "      <td>0.0</td>\n",
       "      <td>...</td>\n",
       "      <td>-0.078405</td>\n",
       "      <td>-0.175474</td>\n",
       "      <td>0.149682</td>\n",
       "      <td>0.149676</td>\n",
       "      <td>368.0</td>\n",
       "      <td>1.0</td>\n",
       "      <td>18.0</td>\n",
       "      <td>229.900051</td>\n",
       "      <td>368.0</td>\n",
       "      <td>18.0</td>\n",
       "    </tr>\n",
       "    <tr>\n",
       "      <th>4</th>\n",
       "      <td>43685</td>\n",
       "      <td>Family pantry</td>\n",
       "      <td>4538 LOWER BEAVER RD</td>\n",
       "      <td>DES MOINES</td>\n",
       "      <td>50310</td>\n",
       "      <td>POLK</td>\n",
       "      <td>GIN</td>\n",
       "      <td>Inexpensive</td>\n",
       "      <td>0.0</td>\n",
       "      <td>0.0</td>\n",
       "      <td>...</td>\n",
       "      <td>-0.336545</td>\n",
       "      <td>-0.194867</td>\n",
       "      <td>-0.261143</td>\n",
       "      <td>-0.261062</td>\n",
       "      <td>6228.0</td>\n",
       "      <td>0.0</td>\n",
       "      <td>66.0</td>\n",
       "      <td>181.283771</td>\n",
       "      <td>6228.0</td>\n",
       "      <td>66.0</td>\n",
       "    </tr>\n",
       "    <tr>\n",
       "      <th>...</th>\n",
       "      <td>...</td>\n",
       "      <td>...</td>\n",
       "      <td>...</td>\n",
       "      <td>...</td>\n",
       "      <td>...</td>\n",
       "      <td>...</td>\n",
       "      <td>...</td>\n",
       "      <td>...</td>\n",
       "      <td>...</td>\n",
       "      <td>...</td>\n",
       "      <td>...</td>\n",
       "      <td>...</td>\n",
       "      <td>...</td>\n",
       "      <td>...</td>\n",
       "      <td>...</td>\n",
       "      <td>...</td>\n",
       "      <td>...</td>\n",
       "      <td>...</td>\n",
       "      <td>...</td>\n",
       "      <td>...</td>\n",
       "      <td>...</td>\n",
       "    </tr>\n",
       "    <tr>\n",
       "      <th>45006</th>\n",
       "      <td>199165</td>\n",
       "      <td>Urban liquor</td>\n",
       "      <td>6401 DOUGLAS AVE   STE 1</td>\n",
       "      <td>URBANDALE</td>\n",
       "      <td>50322</td>\n",
       "      <td>POLK</td>\n",
       "      <td>TEQUILA</td>\n",
       "      <td>Normal</td>\n",
       "      <td>0.0</td>\n",
       "      <td>0.0</td>\n",
       "      <td>...</td>\n",
       "      <td>0.254777</td>\n",
       "      <td>-0.209156</td>\n",
       "      <td>-0.120937</td>\n",
       "      <td>-0.120781</td>\n",
       "      <td>66049.0</td>\n",
       "      <td>1.0</td>\n",
       "      <td>67.0</td>\n",
       "      <td>286.823802</td>\n",
       "      <td>66049.0</td>\n",
       "      <td>67.0</td>\n",
       "    </tr>\n",
       "    <tr>\n",
       "      <th>45007</th>\n",
       "      <td>176568</td>\n",
       "      <td>Shop n save #2 / e 14th</td>\n",
       "      <td>1372 E 14TH ST</td>\n",
       "      <td>DES MOINES</td>\n",
       "      <td>50316</td>\n",
       "      <td>POLK</td>\n",
       "      <td>BRANDY</td>\n",
       "      <td>Normal</td>\n",
       "      <td>0.0</td>\n",
       "      <td>0.0</td>\n",
       "      <td>...</td>\n",
       "      <td>0.178750</td>\n",
       "      <td>0.160676</td>\n",
       "      <td>-0.115625</td>\n",
       "      <td>-0.115520</td>\n",
       "      <td>66049.0</td>\n",
       "      <td>1.0</td>\n",
       "      <td>67.0</td>\n",
       "      <td>247.223484</td>\n",
       "      <td>66049.0</td>\n",
       "      <td>67.0</td>\n",
       "    </tr>\n",
       "    <tr>\n",
       "      <th>45008</th>\n",
       "      <td>50506</td>\n",
       "      <td>Fareway stores #167/johnston</td>\n",
       "      <td>6005 Merle Hay Road</td>\n",
       "      <td>JOHNSTON</td>\n",
       "      <td>50131</td>\n",
       "      <td>POLK</td>\n",
       "      <td>FLAVORED RUM</td>\n",
       "      <td>Normal</td>\n",
       "      <td>0.0</td>\n",
       "      <td>0.0</td>\n",
       "      <td>...</td>\n",
       "      <td>-0.093256</td>\n",
       "      <td>0.268970</td>\n",
       "      <td>0.016567</td>\n",
       "      <td>0.016525</td>\n",
       "      <td>66049.0</td>\n",
       "      <td>1.0</td>\n",
       "      <td>67.0</td>\n",
       "      <td>322.190172</td>\n",
       "      <td>66049.0</td>\n",
       "      <td>67.0</td>\n",
       "    </tr>\n",
       "    <tr>\n",
       "      <th>45009</th>\n",
       "      <td>137475</td>\n",
       "      <td>Kum &amp; go #572 / urbandale</td>\n",
       "      <td>4860 NW URBANDALE DR</td>\n",
       "      <td>URBANDALE</td>\n",
       "      <td>50322</td>\n",
       "      <td>POLK</td>\n",
       "      <td>WHISKY</td>\n",
       "      <td>Inexpensive</td>\n",
       "      <td>0.0</td>\n",
       "      <td>0.0</td>\n",
       "      <td>...</td>\n",
       "      <td>-0.287463</td>\n",
       "      <td>-0.167740</td>\n",
       "      <td>-0.242007</td>\n",
       "      <td>-0.241814</td>\n",
       "      <td>66049.0</td>\n",
       "      <td>0.0</td>\n",
       "      <td>67.0</td>\n",
       "      <td>187.716864</td>\n",
       "      <td>66049.0</td>\n",
       "      <td>67.0</td>\n",
       "    </tr>\n",
       "    <tr>\n",
       "      <th>45010</th>\n",
       "      <td>93017</td>\n",
       "      <td>Hy-vee food store #5 / des moines</td>\n",
       "      <td>1107 SE Army Post Rd</td>\n",
       "      <td>DES MOINES</td>\n",
       "      <td>50315</td>\n",
       "      <td>POLK</td>\n",
       "      <td>LIQUEUR</td>\n",
       "      <td>Inexpensive</td>\n",
       "      <td>0.0</td>\n",
       "      <td>0.0</td>\n",
       "      <td>...</td>\n",
       "      <td>-0.215480</td>\n",
       "      <td>-0.175728</td>\n",
       "      <td>-0.230396</td>\n",
       "      <td>-0.230225</td>\n",
       "      <td>539.0</td>\n",
       "      <td>0.0</td>\n",
       "      <td>24.0</td>\n",
       "      <td>371.654319</td>\n",
       "      <td>539.0</td>\n",
       "      <td>24.0</td>\n",
       "    </tr>\n",
       "  </tbody>\n",
       "</table>\n",
       "<p>45011 rows × 99 columns</p>\n",
       "</div>"
      ],
      "text/plain": [
       "        index                          Store Name                   Address  \\\n",
       "0       31645         Costco wholesale #788 / wdm     7205 MILLS CIVIC PKWY   \n",
       "1      105022   Hy-vee wine and spirits / hubbell          2310 HUBBELL AVE   \n",
       "2       28056                      Central city 2         1501 MICHIGAN AVE   \n",
       "3      188660  Super quick mart / windsor heights           7690 Hickman Rd   \n",
       "4       43685                       Family pantry      4538 LOWER BEAVER RD   \n",
       "...       ...                                 ...                       ...   \n",
       "45006  199165                        Urban liquor  6401 DOUGLAS AVE   STE 1   \n",
       "45007  176568             Shop n save #2 / e 14th            1372 E 14TH ST   \n",
       "45008   50506        Fareway stores #167/johnston       6005 Merle Hay Road   \n",
       "45009  137475           Kum & go #572 / urbandale      4860 NW URBANDALE DR   \n",
       "45010   93017   Hy-vee food store #5 / des moines      1107 SE Army Post Rd   \n",
       "\n",
       "                  City  Zip Code  County      Category Name  \\\n",
       "0      WEST DES MOINES     50266  DALLAS  SPECIAL PACKAGING   \n",
       "1           DES MOINES     50317    POLK  SPECIAL PACKAGING   \n",
       "2           DES MOINES     50314    POLK  SPECIAL PACKAGING   \n",
       "3      WINDSOR HEIGHTS     50324    POLK              VODKA   \n",
       "4           DES MOINES     50310    POLK                GIN   \n",
       "...                ...       ...     ...                ...   \n",
       "45006        URBANDALE     50322    POLK            TEQUILA   \n",
       "45007       DES MOINES     50316    POLK             BRANDY   \n",
       "45008         JOHNSTON     50131    POLK       FLAVORED RUM   \n",
       "45009        URBANDALE     50322    POLK             WHISKY   \n",
       "45010       DES MOINES     50315    POLK            LIQUEUR   \n",
       "\n",
       "      Bottle Price Category  Category Name_BOURBON WHISKY  \\\n",
       "0                    Normal                           0.0   \n",
       "1               Inexpensive                           0.0   \n",
       "2                    Normal                           0.0   \n",
       "3                    Normal                           0.0   \n",
       "4               Inexpensive                           0.0   \n",
       "...                     ...                           ...   \n",
       "45006                Normal                           0.0   \n",
       "45007                Normal                           0.0   \n",
       "45008                Normal                           0.0   \n",
       "45009           Inexpensive                           0.0   \n",
       "45010           Inexpensive                           0.0   \n",
       "\n",
       "       Category Name_BRANDY  ...  Profit / Item  Profit / Invoice  \\\n",
       "0                       0.0  ...       0.228513         10.085250   \n",
       "1                       1.0  ...      -0.168181         -0.080368   \n",
       "2                       0.0  ...       0.064743          0.138905   \n",
       "3                       0.0  ...      -0.078405         -0.175474   \n",
       "4                       0.0  ...      -0.336545         -0.194867   \n",
       "...                     ...  ...            ...               ...   \n",
       "45006                   0.0  ...       0.254777         -0.209156   \n",
       "45007                   0.0  ...       0.178750          0.160676   \n",
       "45008                   0.0  ...      -0.093256          0.268970   \n",
       "45009                   0.0  ...      -0.287463         -0.167740   \n",
       "45010                   0.0  ...      -0.215480         -0.175728   \n",
       "\n",
       "       Profit / ml  Retail Price / ml  total_ranking  OE_BPC  OE_ranking  \\\n",
       "0        -0.178966          -0.178824        66049.0     1.0        67.0   \n",
       "1        -0.241143          -0.240990        66049.0     0.0        67.0   \n",
       "2        -0.171151          -0.170999            6.5     1.0         2.0   \n",
       "3         0.149682           0.149676          368.0     1.0        18.0   \n",
       "4        -0.261143          -0.261062         6228.0     0.0        66.0   \n",
       "...            ...                ...            ...     ...         ...   \n",
       "45006    -0.120937          -0.120781        66049.0     1.0        67.0   \n",
       "45007    -0.115625          -0.115520        66049.0     1.0        67.0   \n",
       "45008     0.016567           0.016525        66049.0     1.0        67.0   \n",
       "45009    -0.242007          -0.241814        66049.0     0.0        67.0   \n",
       "45010    -0.230396          -0.230225          539.0     0.0        24.0   \n",
       "\n",
       "              var  total_pred  oe_pred  \n",
       "0      541.867216     66049.0     67.0  \n",
       "1      230.408432     66049.0     67.0  \n",
       "2      428.946708         6.5      2.0  \n",
       "3      229.900051       368.0     18.0  \n",
       "4      181.283771      6228.0     66.0  \n",
       "...           ...         ...      ...  \n",
       "45006  286.823802     66049.0     67.0  \n",
       "45007  247.223484     66049.0     67.0  \n",
       "45008  322.190172     66049.0     67.0  \n",
       "45009  187.716864     66049.0     67.0  \n",
       "45010  371.654319       539.0     24.0  \n",
       "\n",
       "[45011 rows x 99 columns]"
      ]
     },
     "execution_count": 25,
     "metadata": {},
     "output_type": "execute_result"
    }
   ],
   "source": [
    "reference_test"
   ]
  },
  {
   "cell_type": "markdown",
   "id": "ef1c1caf",
   "metadata": {},
   "source": [
    "- there does not seem to be a difference between total_ranking and the ordinal ranked version"
   ]
  },
  {
   "cell_type": "markdown",
   "id": "2a8914bf",
   "metadata": {},
   "source": [
    "### 5. Create a target classification column \n",
    "\n",
    "We will use each store's mezcal ranking to create classification labels"
   ]
  },
  {
   "cell_type": "code",
   "execution_count": 26,
   "id": "6356ac2e",
   "metadata": {},
   "outputs": [
    {
     "data": {
      "text/plain": [
       "2.00          1773\n",
       "6.00          1531\n",
       "6.50          1653\n",
       "21.00          819\n",
       "25.00         1593\n",
       "28.00         1343\n",
       "44.00         1638\n",
       "94.50         1676\n",
       "153.00        1423\n",
       "156.00         651\n",
       "160.00        1776\n",
       "161.50        1670\n",
       "192.00        1546\n",
       "220.50        1779\n",
       "253.50         124\n",
       "275.00         590\n",
       "343.00        1612\n",
       "367.50         103\n",
       "368.00        2058\n",
       "409.50        1632\n",
       "418.50        1274\n",
       "451.00        1750\n",
       "500.50        1316\n",
       "507.00         109\n",
       "539.00        1498\n",
       "653.25         179\n",
       "656.00         343\n",
       "697.00        1575\n",
       "710.50        1947\n",
       "820.00        1448\n",
       "1107.00       2331\n",
       "1250.50       1678\n",
       "1373.50       1609\n",
       "1558.00        775\n",
       "1575.00       1282\n",
       "1681.00       1429\n",
       "1830.00         87\n",
       "1860.50        486\n",
       "1967.25        307\n",
       "1968.00        702\n",
       "2016.00       1150\n",
       "2089.25         92\n",
       "2214.00        475\n",
       "2388.75       2457\n",
       "2412.00       1073\n",
       "2592.00       1575\n",
       "2664.00       1048\n",
       "2808.50        385\n",
       "2835.00         62\n",
       "2952.00       1414\n",
       "3157.00        278\n",
       "3281.25         53\n",
       "3456.00       2620\n",
       "3596.25        392\n",
       "3600.00        524\n",
       "3708.00       1030\n",
       "3806.25        560\n",
       "4140.00       4285\n",
       "4331.25        450\n",
       "4500.00       1001\n",
       "4644.00         88\n",
       "4932.00       2132\n",
       "5220.00        762\n",
       "5328.00        515\n",
       "5544.00       1097\n",
       "5940.00       3667\n",
       "6228.00       1910\n",
       "66049.00    144843\n",
       "Name: total_ranking, dtype: int64"
      ]
     },
     "execution_count": 26,
     "metadata": {},
     "output_type": "execute_result"
    }
   ],
   "source": [
    "# determine bins\n",
    "iowa['total_ranking'].value_counts().sort_index()"
   ]
  },
  {
   "cell_type": "code",
   "execution_count": 27,
   "id": "f30dbca1",
   "metadata": {},
   "outputs": [],
   "source": [
    "# create a classification for store types based on the rankings\n",
    "iowa['mezcal_sales'] = iowa.total_ranking.apply(lambda x: 0 if x == 66049.0 else ( 1 if x > 1500 and x <66049 else 2))"
   ]
  },
  {
   "cell_type": "code",
   "execution_count": 28,
   "id": "98670c10",
   "metadata": {},
   "outputs": [
    {
     "data": {
      "text/plain": [
       "0    144843\n",
       "2     44047\n",
       "1     36163\n",
       "Name: mezcal_sales, dtype: int64"
      ]
     },
     "execution_count": 28,
     "metadata": {},
     "output_type": "execute_result"
    }
   ],
   "source": [
    "# how does the split look?\n",
    "iowa['mezcal_sales'].value_counts()"
   ]
  },
  {
   "cell_type": "markdown",
   "id": "ba81043f",
   "metadata": {},
   "source": [
    "### 6. Random Forest Classification\n",
    "\n",
    "Now that we have classification labels in the column 'mezcal_sales' we need to create the same splits from earlier but using the classification labels as the target variable"
   ]
  },
  {
   "cell_type": "code",
   "execution_count": 29,
   "id": "7d959e96",
   "metadata": {},
   "outputs": [],
   "source": [
    "# create a y split with the new column\n",
    "\n",
    "_, _, y_train, y_test = train_test_split(iowa_X, iowa['mezcal_sales'], test_size = 0.2, random_state=99)"
   ]
  },
  {
   "cell_type": "code",
   "execution_count": 30,
   "id": "1228eebc",
   "metadata": {},
   "outputs": [
    {
     "data": {
      "text/plain": [
       "0    115856\n",
       "2     35281\n",
       "1     28905\n",
       "Name: mezcal_sales, dtype: int64"
      ]
     },
     "execution_count": 30,
     "metadata": {},
     "output_type": "execute_result"
    }
   ],
   "source": [
    "# was the split even\n",
    "y_train.value_counts()"
   ]
  },
  {
   "cell_type": "code",
   "execution_count": 31,
   "id": "35a11918",
   "metadata": {},
   "outputs": [
    {
     "data": {
      "text/plain": [
       "0    28987\n",
       "2     8766\n",
       "1     7258\n",
       "Name: mezcal_sales, dtype: int64"
      ]
     },
     "execution_count": 31,
     "metadata": {},
     "output_type": "execute_result"
    }
   ],
   "source": [
    "y_test.value_counts()"
   ]
  },
  {
   "cell_type": "markdown",
   "id": "50c724e6",
   "metadata": {},
   "source": [
    "- looks fairly even"
   ]
  },
  {
   "cell_type": "code",
   "execution_count": 38,
   "id": "fdc3e794",
   "metadata": {},
   "outputs": [
    {
     "name": "stdout",
     "output_type": "stream",
     "text": [
      "Average accuracy: 0.9792252173323898 Average STD: 0.001042200508734727\n"
     ]
    }
   ],
   "source": [
    "# create a model, the target variable is not balanced. Having about 3:1:1 as the ratio\n",
    "rfc = RandomForestClassifier(random_state=1, class_weight='balanced')\n",
    "\n",
    "# check the model performance\n",
    "cv = RepeatedStratifiedKFold(n_splits=5, n_repeats=3, random_state=1)\n",
    "scores = cross_val_score(rfc, total_X_train, y_train, scoring='accuracy', cv=cv, n_jobs=-1)\n",
    "\n",
    "score_mean = np.mean(scores)\n",
    "score_std = np.std(scores)\n",
    "# cross val \n",
    "print(f'Average accuracy: {score_mean} Average STD: {score_std}')"
   ]
  },
  {
   "cell_type": "code",
   "execution_count": 39,
   "id": "741f8841",
   "metadata": {},
   "outputs": [],
   "source": [
    "# Now that we are pleased with our underlying model\n",
    "rfc.fit(total_X_train, y_train)\n",
    "mezcal_pred = rfc.predict(total_X_test)"
   ]
  },
  {
   "cell_type": "code",
   "execution_count": 40,
   "id": "c94bf924",
   "metadata": {},
   "outputs": [
    {
     "data": {
      "text/plain": [
       "0.9820932660905112"
      ]
     },
     "execution_count": 40,
     "metadata": {},
     "output_type": "execute_result"
    }
   ],
   "source": [
    "rfc.score(total_X_test, y_test)"
   ]
  },
  {
   "cell_type": "code",
   "execution_count": 41,
   "id": "3df9243d",
   "metadata": {},
   "outputs": [
    {
     "name": "stdout",
     "output_type": "stream",
     "text": [
      "=== Confusion Matrix ===\n",
      "[[28865    86    36]\n",
      " [  508  6674    76]\n",
      " [   91     9  8666]]\n"
     ]
    }
   ],
   "source": [
    "print(\"=== Confusion Matrix ===\")\n",
    "print(metrics.confusion_matrix(y_test, mezcal_pred))"
   ]
  },
  {
   "cell_type": "markdown",
   "id": "cca48333",
   "metadata": {},
   "source": [
    "#### the top row contains the real 0 (no mezcal values) rows predicted as:\n",
    "- 28865 were predicted correctly, 86 were thought to contain some mezcal, 36 were thought to contain lots of mezcal\n",
    "- those 122 rows for stores should be approached to sell mezcal\n",
    "\n",
    "#### the middle row contains the real 1 (some mezcal values) rows predicted as:\n",
    "- 508 were thought to sell 0 mezcal, 6674 correctly identified, and 76 were thought to sell more or a greater variety\n",
    "- the 76 store rows should be offered new products to sell\n",
    "\n",
    "#### the bottom row contain real 2 (lots of mezcal/ variety) rows predicted as:\n",
    "- 91 were thought to sell 0 mezcal, 9 thought to sell less, and 8666 were correct"
   ]
  },
  {
   "cell_type": "code",
   "execution_count": 42,
   "id": "1fd77219",
   "metadata": {},
   "outputs": [
    {
     "name": "stdout",
     "output_type": "stream",
     "text": [
      "=== Classification Report ===\n",
      "              precision    recall  f1-score   support\n",
      "\n",
      "           0       0.98      1.00      0.99     28987\n",
      "           1       0.99      0.92      0.95      7258\n",
      "           2       0.99      0.99      0.99      8766\n",
      "\n",
      "    accuracy                           0.98     45011\n",
      "   macro avg       0.98      0.97      0.98     45011\n",
      "weighted avg       0.98      0.98      0.98     45011\n",
      "\n"
     ]
    }
   ],
   "source": [
    "print(\"=== Classification Report ===\")\n",
    "print(metrics.classification_report(y_test, mezcal_pred))"
   ]
  },
  {
   "cell_type": "markdown",
   "id": "be99c38e",
   "metadata": {},
   "source": [
    "- Class 0 has a recall of 1.0 and a precision of 0.98, this tells me that class 0 is being over selected."
   ]
  },
  {
   "cell_type": "code",
   "execution_count": 79,
   "id": "fcd5eed0",
   "metadata": {},
   "outputs": [],
   "source": [
    "# a table for logging progress\n",
    "columns = ['model', 'random state', 'class weight', 'r2', 'overall acc', '0: precision', '0: recall', '0: f1',\n",
    "          '1: precision', '1: recall', '1: f1', '2: precision', '2: recall', '2: f1', 'wrong 0', 'wrong 1', 'wrong 2']\n",
    "\n",
    "data = [['Random Forest Classifier', 1, 'balanced', 0.9821, 0.98,\n",
    "        0.98, 1.00, 0.99,\n",
    "        0.99, 0.92, 0.95,\n",
    "        0.99, 0.99, 0.99,\n",
    "        ('X', 86, 36), (508, 'X', 76),(91, 9, 'X')]]\n"
   ]
  },
  {
   "cell_type": "markdown",
   "id": "9a1f788c",
   "metadata": {},
   "source": [
    "### Task specific classification\n",
    "\n",
    "Now that we have a model worth trusting for it's ability to understand the dataset, let's tune it to our needs. We are attempting to find new customers for liquor products, specifically mezcal. We now would like our model to over select class 1 and 2, the mezcal selling categories.  We are going to create false positives.  Type 1 error represents stores that the model think should be selling mezcal, but currently are not. \n",
    "\n",
    "These stores are good candidates for future sales, and market expansion. We want to make our model worse, in order to increase the list of stores to be approached with mezcal products.\n",
    "\n",
    "We will attempt to make the model worse, however not much worse. We need to still be able to trust the results."
   ]
  },
  {
   "cell_type": "code",
   "execution_count": 45,
   "id": "4633f5cb",
   "metadata": {},
   "outputs": [
    {
     "data": {
      "text/plain": [
       "0.9815822798871388"
      ]
     },
     "execution_count": 45,
     "metadata": {},
     "output_type": "execute_result"
    }
   ],
   "source": [
    "# now to make it worse!\n",
    "# if we adjust the model to favor class 1,2 selections in order to capture more possible sales locations\n",
    "# adjust class weighting\n",
    "\n",
    "rfc_sales = RandomForestClassifier(random_state=1, class_weight={0:4,1:2,2:1})\n",
    "rfc_sales.fit(total_X_train, y_train)\n",
    "mezcal_sales_pred = rfc_sales.predict(total_X_test)\n",
    "rfc_sales.score(total_X_test, y_test)"
   ]
  },
  {
   "cell_type": "code",
   "execution_count": 46,
   "id": "a98ec788",
   "metadata": {},
   "outputs": [
    {
     "name": "stdout",
     "output_type": "stream",
     "text": [
      "=== Confusion Matrix ===\n",
      "[[28827    94    66]\n",
      " [  437  6699   122]\n",
      " [   97    13  8656]]\n"
     ]
    }
   ],
   "source": [
    "print(\"=== Confusion Matrix ===\")\n",
    "print(metrics.confusion_matrix(y_test, mezcal_sales_pred))"
   ]
  },
  {
   "cell_type": "code",
   "execution_count": 47,
   "id": "4c687171",
   "metadata": {},
   "outputs": [
    {
     "name": "stdout",
     "output_type": "stream",
     "text": [
      "=== Classification Report ===\n",
      "              precision    recall  f1-score   support\n",
      "\n",
      "           0       0.98      0.99      0.99     28987\n",
      "           1       0.98      0.92      0.95      7258\n",
      "           2       0.98      0.99      0.98      8766\n",
      "\n",
      "    accuracy                           0.98     45011\n",
      "   macro avg       0.98      0.97      0.97     45011\n",
      "weighted avg       0.98      0.98      0.98     45011\n",
      "\n"
     ]
    }
   ],
   "source": [
    "print(\"=== Classification Report ===\")\n",
    "print(metrics.classification_report(y_test, mezcal_sales_pred))"
   ]
  },
  {
   "cell_type": "code",
   "execution_count": 80,
   "id": "ea29d2bb",
   "metadata": {},
   "outputs": [],
   "source": [
    "# log data\n",
    "data.append(['Random Forest Classifier', 1, '0:4,1:2,2:1', 0.9815, 0.98, 0.98, 0.99, 0.99,\n",
    "                   0.98, 0.92, 0.95,\n",
    "                   0.98, 0.99, 0.98,\n",
    "                    ('X', 94, 66), (437, 'X', 122), (97, 13, \"X\")])"
   ]
  },
  {
   "cell_type": "markdown",
   "id": "4a3b935e",
   "metadata": {},
   "source": [
    "- '0:4,1:2,2:1' weighting gave us more stores to sell to, however increased the incorrect class 1 and 2 selections as well"
   ]
  },
  {
   "cell_type": "code",
   "execution_count": 104,
   "id": "15fb9934",
   "metadata": {},
   "outputs": [
    {
     "data": {
      "text/plain": [
       "0.9828042034169425"
      ]
     },
     "execution_count": 104,
     "metadata": {},
     "output_type": "execute_result"
    }
   ],
   "source": [
    "# second attempt\n",
    "rfc_sales = RandomForestClassifier(random_state=1, class_weight={0:20,1:1,2:1})\n",
    "rfc_sales.fit(total_X_train, y_train)\n",
    "mezcal_sales_pred = rfc_sales.predict(total_X_test)\n",
    "rfc_sales.score(total_X_test, y_test)"
   ]
  },
  {
   "cell_type": "code",
   "execution_count": 105,
   "id": "e327c779",
   "metadata": {},
   "outputs": [
    {
     "name": "stdout",
     "output_type": "stream",
     "text": [
      "=== Classification Report ===\n",
      "              precision    recall  f1-score   support\n",
      "\n",
      "           0       0.98      0.99      0.99     28987\n",
      "           1       0.98      0.93      0.95      7258\n",
      "           2       0.98      0.99      0.98      8766\n",
      "\n",
      "    accuracy                           0.98     45011\n",
      "   macro avg       0.98      0.97      0.98     45011\n",
      "weighted avg       0.98      0.98      0.98     45011\n",
      "\n"
     ]
    }
   ],
   "source": [
    "print(\"=== Classification Report ===\")\n",
    "print(metrics.classification_report(y_test, mezcal_sales_pred))"
   ]
  },
  {
   "cell_type": "code",
   "execution_count": 106,
   "id": "a11b4bb3",
   "metadata": {},
   "outputs": [
    {
     "name": "stdout",
     "output_type": "stream",
     "text": [
      "=== Confusion Matrix ===\n",
      "[[28808   120    59]\n",
      " [  386  6748   124]\n",
      " [   70    15  8681]]\n"
     ]
    }
   ],
   "source": [
    "print(\"=== Confusion Matrix ===\")\n",
    "print(metrics.confusion_matrix(y_test, mezcal_sales_pred))"
   ]
  },
  {
   "cell_type": "code",
   "execution_count": 81,
   "id": "91413c01",
   "metadata": {},
   "outputs": [],
   "source": [
    "# log data\n",
    "data.append(['Random Forest Classifier', 1, '0:20,1:1,2:1', 0.9828, 0.98,\n",
    "        0.98, 0.99, 0.99,\n",
    "        0.98, 0.93, 0.95,\n",
    "        0.98, 0.99, 0.98,\n",
    "        ('X', 120, 59), (386, 'X', 124), (70, 15, 'X')])"
   ]
  },
  {
   "cell_type": "markdown",
   "id": "31b299bf",
   "metadata": {},
   "source": [
    "- This model is interesting, r2 increased  (good) , incorrect 0 increased (good), incorrect 2 decreased (good), f1 deceased (bad)"
   ]
  },
  {
   "cell_type": "code",
   "execution_count": 75,
   "id": "df83e0e5",
   "metadata": {},
   "outputs": [
    {
     "data": {
      "text/plain": [
       "0.9791384328275311"
      ]
     },
     "execution_count": 75,
     "metadata": {},
     "output_type": "execute_result"
    }
   ],
   "source": [
    "# third attempt\n",
    "rfc_sales = RandomForestClassifier(random_state=1, class_weight={0:40, 1:1, 2:1})\n",
    "rfc_sales.fit(total_X_train, y_train)\n",
    "mezcal_sales_pred = rfc_sales.predict(total_X_test)\n",
    "rfc_sales.score(total_X_test, y_test)"
   ]
  },
  {
   "cell_type": "code",
   "execution_count": 76,
   "id": "4808a568",
   "metadata": {},
   "outputs": [
    {
     "name": "stdout",
     "output_type": "stream",
     "text": [
      "=== Classification Report ===\n",
      "              precision    recall  f1-score   support\n",
      "\n",
      "           0       0.98      0.99      0.99     28987\n",
      "           1       0.98      0.92      0.95      7258\n",
      "           2       0.97      0.98      0.98      8766\n",
      "\n",
      "    accuracy                           0.98     45011\n",
      "   macro avg       0.98      0.97      0.97     45011\n",
      "weighted avg       0.98      0.98      0.98     45011\n",
      "\n"
     ]
    }
   ],
   "source": [
    "print(\"=== Classification Report ===\")\n",
    "print(metrics.classification_report(y_test, mezcal_sales_pred))"
   ]
  },
  {
   "cell_type": "code",
   "execution_count": 77,
   "id": "b84af142",
   "metadata": {},
   "outputs": [
    {
     "name": "stdout",
     "output_type": "stream",
     "text": [
      "=== Confusion Matrix ===\n",
      "[[28763   139    85]\n",
      " [  417  6681   160]\n",
      " [  121    17  8628]]\n"
     ]
    }
   ],
   "source": [
    "print(\"=== Confusion Matrix ===\")\n",
    "print(metrics.confusion_matrix(y_test, mezcal_sales_pred))"
   ]
  },
  {
   "cell_type": "code",
   "execution_count": 82,
   "id": "8505d5bd",
   "metadata": {},
   "outputs": [],
   "source": [
    "# log data\n",
    "data.append(['Random Forest Classifier', 1, '(0:40, 1:1, 2:1)', 0.9791, 0.98,\n",
    "        0.98, 0.99, 0.99,\n",
    "        0.98, 0.92, 0.95,\n",
    "        0.97, 0.98, 0.98,\n",
    "        ('X', 139, 85), (417, 'X', 160), (121, 17, 'X')])"
   ]
  },
  {
   "cell_type": "code",
   "execution_count": 84,
   "id": "1963b3d1",
   "metadata": {},
   "outputs": [
    {
     "data": {
      "text/plain": [
       "0.9810490768923152"
      ]
     },
     "execution_count": 84,
     "metadata": {},
     "output_type": "execute_result"
    }
   ],
   "source": [
    "# fourth attempt\n",
    "rfc_sales = RandomForestClassifier(random_state=1, class_weight={0:100, 1:2, 2:1})\n",
    "rfc_sales.fit(total_X_train, y_train)\n",
    "mezcal_sales_pred = rfc_sales.predict(total_X_test)\n",
    "rfc_sales.score(total_X_test, y_test)"
   ]
  },
  {
   "cell_type": "code",
   "execution_count": 85,
   "id": "a5fc22b7",
   "metadata": {},
   "outputs": [
    {
     "name": "stdout",
     "output_type": "stream",
     "text": [
      "=== Classification Report ===\n",
      "              precision    recall  f1-score   support\n",
      "\n",
      "           0       0.98      0.99      0.99     28987\n",
      "           1       0.98      0.92      0.95      7258\n",
      "           2       0.97      0.99      0.98      8766\n",
      "\n",
      "    accuracy                           0.98     45011\n",
      "   macro avg       0.98      0.97      0.97     45011\n",
      "weighted avg       0.98      0.98      0.98     45011\n",
      "\n"
     ]
    }
   ],
   "source": [
    "print(\"=== Classification Report ===\")\n",
    "print(metrics.classification_report(y_test, mezcal_sales_pred))"
   ]
  },
  {
   "cell_type": "code",
   "execution_count": 86,
   "id": "90472495",
   "metadata": {},
   "outputs": [
    {
     "name": "stdout",
     "output_type": "stream",
     "text": [
      "=== Confusion Matrix ===\n",
      "[[28794   116    77]\n",
      " [  396  6703   159]\n",
      " [   90    15  8661]]\n"
     ]
    }
   ],
   "source": [
    "print(\"=== Confusion Matrix ===\")\n",
    "print(metrics.confusion_matrix(y_test, mezcal_sales_pred))"
   ]
  },
  {
   "cell_type": "code",
   "execution_count": 87,
   "id": "fa33ef3d",
   "metadata": {},
   "outputs": [],
   "source": [
    "# log data\n",
    "data.append(['Random Forest Classifier', 1, '(0:100, 1:2, 2:1)', 0.9810, 0.98,\n",
    "        0.98, 0.99, 0.99,\n",
    "        0.98, 0.92, 0.95,\n",
    "        0.97, 0.99, 0.98,\n",
    "        ('X', 116, 77), (396, 'X', 159), (90, 15, 'X')])"
   ]
  },
  {
   "cell_type": "code",
   "execution_count": 88,
   "id": "f7ab1857",
   "metadata": {},
   "outputs": [
    {
     "data": {
      "text/plain": [
       "0.97820532758659"
      ]
     },
     "execution_count": 88,
     "metadata": {},
     "output_type": "execute_result"
    }
   ],
   "source": [
    "# fourth attempt\n",
    "rfc_sales = RandomForestClassifier(random_state=1, class_weight={0:200, 1:1, 2:1})\n",
    "rfc_sales.fit(total_X_train, y_train)\n",
    "mezcal_sales_pred = rfc_sales.predict(total_X_test)\n",
    "rfc_sales.score(total_X_test, y_test)"
   ]
  },
  {
   "cell_type": "code",
   "execution_count": 89,
   "id": "8dcb62c8",
   "metadata": {},
   "outputs": [
    {
     "name": "stdout",
     "output_type": "stream",
     "text": [
      "=== Classification Report ===\n",
      "              precision    recall  f1-score   support\n",
      "\n",
      "           0       0.98      0.99      0.99     28987\n",
      "           1       0.98      0.91      0.94      7258\n",
      "           2       0.97      0.99      0.98      8766\n",
      "\n",
      "    accuracy                           0.98     45011\n",
      "   macro avg       0.98      0.96      0.97     45011\n",
      "weighted avg       0.98      0.98      0.98     45011\n",
      "\n"
     ]
    }
   ],
   "source": [
    "print(\"=== Classification Report ===\")\n",
    "print(metrics.classification_report(y_test, mezcal_sales_pred))"
   ]
  },
  {
   "cell_type": "code",
   "execution_count": 90,
   "id": "a31506e2",
   "metadata": {},
   "outputs": [
    {
     "name": "stdout",
     "output_type": "stream",
     "text": [
      "=== Confusion Matrix ===\n",
      "[[28768   123    96]\n",
      " [  477  6618   163]\n",
      " [  102    20  8644]]\n"
     ]
    }
   ],
   "source": [
    "print(\"=== Confusion Matrix ===\")\n",
    "print(metrics.confusion_matrix(y_test, mezcal_sales_pred))"
   ]
  },
  {
   "cell_type": "code",
   "execution_count": 91,
   "id": "d69ce040",
   "metadata": {},
   "outputs": [],
   "source": [
    "# log data\n",
    "data.append(['Random Forest Classifier', 1, '(0:200, 1:1, 2:1)', 0.9782, 0.98,\n",
    "        0.98, 0.99, 0.99,\n",
    "        0.98, 0.91, 0.94,\n",
    "        0.97, 0.99, 0.98,\n",
    "        ('X', 123, 96), (477, 'X', 163), (102, 20, 'X')])"
   ]
  },
  {
   "cell_type": "code",
   "execution_count": 123,
   "id": "46fa126e",
   "metadata": {},
   "outputs": [
    {
     "data": {
      "text/plain": [
       "0.9767612361422763"
      ]
     },
     "execution_count": 123,
     "metadata": {},
     "output_type": "execute_result"
    }
   ],
   "source": [
    "# fourth attempt\n",
    "rfc_sales = RandomForestClassifier(random_state=1, class_weight={0:400, 1:1, 2:1})\n",
    "rfc_sales.fit(total_X_train, y_train)\n",
    "mezcal_sales_pred = rfc_sales.predict(total_X_test)\n",
    "rfc_sales.score(total_X_test, y_test)"
   ]
  },
  {
   "cell_type": "code",
   "execution_count": 124,
   "id": "0fef5790",
   "metadata": {},
   "outputs": [
    {
     "name": "stdout",
     "output_type": "stream",
     "text": [
      "=== Classification Report ===\n",
      "              precision    recall  f1-score   support\n",
      "\n",
      "           0       0.98      0.99      0.99     28987\n",
      "           1       0.98      0.91      0.94      7258\n",
      "           2       0.97      0.98      0.98      8766\n",
      "\n",
      "    accuracy                           0.98     45011\n",
      "   macro avg       0.98      0.96      0.97     45011\n",
      "weighted avg       0.98      0.98      0.98     45011\n",
      "\n"
     ]
    }
   ],
   "source": [
    "print(\"=== Classification Report ===\")\n",
    "print(metrics.classification_report(y_test, mezcal_sales_pred))"
   ]
  },
  {
   "cell_type": "code",
   "execution_count": 125,
   "id": "da635719",
   "metadata": {},
   "outputs": [
    {
     "name": "stdout",
     "output_type": "stream",
     "text": [
      "=== Confusion Matrix ===\n",
      "[[28753   132   102]\n",
      " [  508  6595   155]\n",
      " [  129    20  8617]]\n"
     ]
    }
   ],
   "source": [
    "print(\"=== Confusion Matrix ===\")\n",
    "print(metrics.confusion_matrix(y_test, mezcal_sales_pred))"
   ]
  },
  {
   "cell_type": "code",
   "execution_count": 96,
   "id": "5ba7e76d",
   "metadata": {},
   "outputs": [],
   "source": [
    "# log data\n",
    "data.append(['Random Forest Classifier', 1, '(0:400, 1:1, 2:1)', 0.9767, 0.98,\n",
    "        0.98, 0.99, 0.99,\n",
    "        0.98, 0.91, 0.94,\n",
    "        0.97, 0.98, 0.98,\n",
    "        ('X', 132, 102), (508, 'X', 155), (129, 20, 'X')])"
   ]
  },
  {
   "cell_type": "markdown",
   "id": "09420d52",
   "metadata": {},
   "source": [
    "- Officially too broken. it is selecting 0 for too many 1 and 2"
   ]
  },
  {
   "cell_type": "code",
   "execution_count": 102,
   "id": "846a52af",
   "metadata": {},
   "outputs": [],
   "source": [
    "rfc_data = pd.DataFrame(data, columns=columns)"
   ]
  },
  {
   "cell_type": "code",
   "execution_count": 103,
   "id": "dcd551f1",
   "metadata": {},
   "outputs": [
    {
     "data": {
      "text/html": [
       "<div>\n",
       "<style scoped>\n",
       "    .dataframe tbody tr th:only-of-type {\n",
       "        vertical-align: middle;\n",
       "    }\n",
       "\n",
       "    .dataframe tbody tr th {\n",
       "        vertical-align: top;\n",
       "    }\n",
       "\n",
       "    .dataframe thead th {\n",
       "        text-align: right;\n",
       "    }\n",
       "</style>\n",
       "<table border=\"1\" class=\"dataframe\">\n",
       "  <thead>\n",
       "    <tr style=\"text-align: right;\">\n",
       "      <th></th>\n",
       "      <th>model</th>\n",
       "      <th>random state</th>\n",
       "      <th>class weight</th>\n",
       "      <th>r2</th>\n",
       "      <th>overall acc</th>\n",
       "      <th>0: precision</th>\n",
       "      <th>0: recall</th>\n",
       "      <th>0: f1</th>\n",
       "      <th>1: precision</th>\n",
       "      <th>1: recall</th>\n",
       "      <th>1: f1</th>\n",
       "      <th>2: precision</th>\n",
       "      <th>2: recall</th>\n",
       "      <th>2: f1</th>\n",
       "      <th>wrong 0</th>\n",
       "      <th>wrong 1</th>\n",
       "      <th>wrong 2</th>\n",
       "    </tr>\n",
       "  </thead>\n",
       "  <tbody>\n",
       "    <tr>\n",
       "      <th>0</th>\n",
       "      <td>Random Forest Classifier</td>\n",
       "      <td>1</td>\n",
       "      <td>balanced</td>\n",
       "      <td>0.9821</td>\n",
       "      <td>0.98</td>\n",
       "      <td>0.98</td>\n",
       "      <td>1.00</td>\n",
       "      <td>0.99</td>\n",
       "      <td>0.99</td>\n",
       "      <td>0.92</td>\n",
       "      <td>0.95</td>\n",
       "      <td>0.99</td>\n",
       "      <td>0.99</td>\n",
       "      <td>0.99</td>\n",
       "      <td>(X, 86, 36)</td>\n",
       "      <td>(508, X, 76)</td>\n",
       "      <td>(91, 9, X)</td>\n",
       "    </tr>\n",
       "    <tr>\n",
       "      <th>1</th>\n",
       "      <td>Random Forest Classifier</td>\n",
       "      <td>1</td>\n",
       "      <td>0:4,1:2,2:1</td>\n",
       "      <td>0.9815</td>\n",
       "      <td>0.98</td>\n",
       "      <td>0.98</td>\n",
       "      <td>0.99</td>\n",
       "      <td>0.99</td>\n",
       "      <td>0.98</td>\n",
       "      <td>0.92</td>\n",
       "      <td>0.95</td>\n",
       "      <td>0.98</td>\n",
       "      <td>0.99</td>\n",
       "      <td>0.98</td>\n",
       "      <td>(X, 94, 66)</td>\n",
       "      <td>(437, X, 122)</td>\n",
       "      <td>(97, 13, X)</td>\n",
       "    </tr>\n",
       "    <tr>\n",
       "      <th>2</th>\n",
       "      <td>Random Forest Classifier</td>\n",
       "      <td>1</td>\n",
       "      <td>0:20,1:1,2:1</td>\n",
       "      <td>0.9828</td>\n",
       "      <td>0.98</td>\n",
       "      <td>0.98</td>\n",
       "      <td>0.99</td>\n",
       "      <td>0.99</td>\n",
       "      <td>0.98</td>\n",
       "      <td>0.93</td>\n",
       "      <td>0.95</td>\n",
       "      <td>0.98</td>\n",
       "      <td>0.99</td>\n",
       "      <td>0.98</td>\n",
       "      <td>(X, 120, 59)</td>\n",
       "      <td>(386, X, 124)</td>\n",
       "      <td>(70, 15, X)</td>\n",
       "    </tr>\n",
       "    <tr>\n",
       "      <th>3</th>\n",
       "      <td>Random Forest Classifier</td>\n",
       "      <td>1</td>\n",
       "      <td>(0:40, 1:1, 2:1)</td>\n",
       "      <td>0.9791</td>\n",
       "      <td>0.98</td>\n",
       "      <td>0.98</td>\n",
       "      <td>0.99</td>\n",
       "      <td>0.99</td>\n",
       "      <td>0.98</td>\n",
       "      <td>0.92</td>\n",
       "      <td>0.95</td>\n",
       "      <td>0.97</td>\n",
       "      <td>0.98</td>\n",
       "      <td>0.98</td>\n",
       "      <td>(X, 139, 85)</td>\n",
       "      <td>(417, X, 160)</td>\n",
       "      <td>(121, 17, X)</td>\n",
       "    </tr>\n",
       "    <tr>\n",
       "      <th>4</th>\n",
       "      <td>Random Forest Classifier</td>\n",
       "      <td>1</td>\n",
       "      <td>(0:100, 1:2, 2:1)</td>\n",
       "      <td>0.9810</td>\n",
       "      <td>0.98</td>\n",
       "      <td>0.98</td>\n",
       "      <td>0.99</td>\n",
       "      <td>0.99</td>\n",
       "      <td>0.98</td>\n",
       "      <td>0.92</td>\n",
       "      <td>0.95</td>\n",
       "      <td>0.97</td>\n",
       "      <td>0.99</td>\n",
       "      <td>0.98</td>\n",
       "      <td>(X, 116, 77)</td>\n",
       "      <td>(396, X, 159)</td>\n",
       "      <td>(90, 15, X)</td>\n",
       "    </tr>\n",
       "    <tr>\n",
       "      <th>5</th>\n",
       "      <td>Random Forest Classifier</td>\n",
       "      <td>1</td>\n",
       "      <td>(0:100, 1:1, 2:1)</td>\n",
       "      <td>0.9782</td>\n",
       "      <td>0.98</td>\n",
       "      <td>0.98</td>\n",
       "      <td>0.99</td>\n",
       "      <td>0.99</td>\n",
       "      <td>0.98</td>\n",
       "      <td>0.91</td>\n",
       "      <td>0.94</td>\n",
       "      <td>0.97</td>\n",
       "      <td>0.99</td>\n",
       "      <td>0.98</td>\n",
       "      <td>(X, 123, 96)</td>\n",
       "      <td>(477, X, 163)</td>\n",
       "      <td>(102, 20, X)</td>\n",
       "    </tr>\n",
       "    <tr>\n",
       "      <th>6</th>\n",
       "      <td>Random Forest Classifier</td>\n",
       "      <td>1</td>\n",
       "      <td>(0:400, 1:1, 2:1)</td>\n",
       "      <td>0.9767</td>\n",
       "      <td>0.98</td>\n",
       "      <td>0.98</td>\n",
       "      <td>0.99</td>\n",
       "      <td>0.99</td>\n",
       "      <td>0.98</td>\n",
       "      <td>0.91</td>\n",
       "      <td>0.94</td>\n",
       "      <td>0.97</td>\n",
       "      <td>0.98</td>\n",
       "      <td>0.98</td>\n",
       "      <td>(X, 132, 102)</td>\n",
       "      <td>(508, X, 155)</td>\n",
       "      <td>(129, 20, X)</td>\n",
       "    </tr>\n",
       "  </tbody>\n",
       "</table>\n",
       "</div>"
      ],
      "text/plain": [
       "                      model  random state       class weight      r2  \\\n",
       "0  Random Forest Classifier             1           balanced  0.9821   \n",
       "1  Random Forest Classifier             1        0:4,1:2,2:1  0.9815   \n",
       "2  Random Forest Classifier             1       0:20,1:1,2:1  0.9828   \n",
       "3  Random Forest Classifier             1   (0:40, 1:1, 2:1)  0.9791   \n",
       "4  Random Forest Classifier             1  (0:100, 1:2, 2:1)  0.9810   \n",
       "5  Random Forest Classifier             1  (0:100, 1:1, 2:1)  0.9782   \n",
       "6  Random Forest Classifier             1  (0:400, 1:1, 2:1)  0.9767   \n",
       "\n",
       "   overall acc  0: precision  0: recall  0: f1  1: precision  1: recall  \\\n",
       "0         0.98          0.98       1.00   0.99          0.99       0.92   \n",
       "1         0.98          0.98       0.99   0.99          0.98       0.92   \n",
       "2         0.98          0.98       0.99   0.99          0.98       0.93   \n",
       "3         0.98          0.98       0.99   0.99          0.98       0.92   \n",
       "4         0.98          0.98       0.99   0.99          0.98       0.92   \n",
       "5         0.98          0.98       0.99   0.99          0.98       0.91   \n",
       "6         0.98          0.98       0.99   0.99          0.98       0.91   \n",
       "\n",
       "   1: f1  2: precision  2: recall  2: f1        wrong 0        wrong 1  \\\n",
       "0   0.95          0.99       0.99   0.99    (X, 86, 36)   (508, X, 76)   \n",
       "1   0.95          0.98       0.99   0.98    (X, 94, 66)  (437, X, 122)   \n",
       "2   0.95          0.98       0.99   0.98   (X, 120, 59)  (386, X, 124)   \n",
       "3   0.95          0.97       0.98   0.98   (X, 139, 85)  (417, X, 160)   \n",
       "4   0.95          0.97       0.99   0.98   (X, 116, 77)  (396, X, 159)   \n",
       "5   0.94          0.97       0.99   0.98   (X, 123, 96)  (477, X, 163)   \n",
       "6   0.94          0.97       0.98   0.98  (X, 132, 102)  (508, X, 155)   \n",
       "\n",
       "        wrong 2  \n",
       "0    (91, 9, X)  \n",
       "1   (97, 13, X)  \n",
       "2   (70, 15, X)  \n",
       "3  (121, 17, X)  \n",
       "4   (90, 15, X)  \n",
       "5  (102, 20, X)  \n",
       "6  (129, 20, X)  "
      ]
     },
     "execution_count": 103,
     "metadata": {},
     "output_type": "execute_result"
    }
   ],
   "source": [
    "# the best so far is(0:20, 1:1, 2:1)\n",
    "rfc_data"
   ]
  },
  {
   "cell_type": "code",
   "execution_count": 107,
   "id": "862540b5",
   "metadata": {},
   "outputs": [],
   "source": [
    "# the best results from rfc are 20,1,1 weighting, accuracy for class 1,2 are still good, while incorrect 0 increased\n",
    "reference_test['sales_pred'] = pd.DataFrame(mezcal_sales_pred)"
   ]
  },
  {
   "cell_type": "code",
   "execution_count": 108,
   "id": "8dd57fd8",
   "metadata": {},
   "outputs": [],
   "source": [
    "# create a new df that is easier to read, and reflects prediction counts\n",
    "# reference_test was the X_test with store name/ info\n",
    "\n",
    "selling_stores = reference_test.groupby(['Store Name', 'City', 'total_ranking', 'sales_pred']).agg({'sales_pred':'size'})"
   ]
  },
  {
   "cell_type": "code",
   "execution_count": 109,
   "id": "c04c1e53",
   "metadata": {},
   "outputs": [],
   "source": [
    "# we groupby and agg the same column so we need to rename one in order to reset_index\n",
    "selling_stores = selling_stores.rename(columns={'sales_pred':'count'}).reset_index()"
   ]
  },
  {
   "cell_type": "code",
   "execution_count": 110,
   "id": "d945eeef",
   "metadata": {},
   "outputs": [],
   "source": [
    "selling_stores['total_ranking'] = selling_stores['total_ranking'].astype(int)"
   ]
  },
  {
   "cell_type": "code",
   "execution_count": 114,
   "id": "773da38b",
   "metadata": {},
   "outputs": [],
   "source": [
    "# filter for mezcal sales prediction possibilities\n",
    "possibilities = selling_stores[(selling_stores['sales_pred'] != 0) & (selling_stores['total_ranking'] == 66049)]"
   ]
  },
  {
   "cell_type": "markdown",
   "id": "737181b7",
   "metadata": {},
   "source": [
    "- these stores do not sell mezcal but were deemed to have potential"
   ]
  },
  {
   "cell_type": "code",
   "execution_count": 119,
   "id": "d5905084",
   "metadata": {},
   "outputs": [],
   "source": [
    "possibilities2 = selling_stores[(selling_stores['sales_pred'] == 2) & (selling_stores['total_ranking'] > 1500 ) & (selling_stores['total_ranking'] < 66049 )]"
   ]
  },
  {
   "cell_type": "markdown",
   "id": "05b81279",
   "metadata": {},
   "source": [
    "- these stores sell mezcal but are considered good candidates to sell more"
   ]
  },
  {
   "cell_type": "code",
   "execution_count": 122,
   "id": "275b353f",
   "metadata": {},
   "outputs": [
    {
     "data": {
      "text/plain": [
       "53"
      ]
     },
     "execution_count": 122,
     "metadata": {},
     "output_type": "execute_result"
    }
   ],
   "source": [
    "possibilities['Store Name'].nunique()"
   ]
  },
  {
   "cell_type": "markdown",
   "id": "5ec87219",
   "metadata": {},
   "source": [
    "- 53 realistic clients"
   ]
  },
  {
   "cell_type": "code",
   "execution_count": 120,
   "id": "0b432707",
   "metadata": {},
   "outputs": [
    {
     "data": {
      "text/plain": [
       "16"
      ]
     },
     "execution_count": 120,
     "metadata": {},
     "output_type": "execute_result"
    }
   ],
   "source": [
    "possibilities2['Store Name'].nunique()"
   ]
  },
  {
   "cell_type": "markdown",
   "id": "e8b3db55",
   "metadata": {},
   "source": [
    "- 16 stores to approach about increasing their variety of offerings "
   ]
  },
  {
   "cell_type": "code",
   "execution_count": 126,
   "id": "0e98839d",
   "metadata": {},
   "outputs": [],
   "source": [
    "#### If we wanted to maximize possible stores, with a slightly worse model (400,1,1 weighting)\n",
    "\n",
    "reference_test['sales_pred'] = pd.DataFrame(mezcal_sales_pred)\n",
    "\n",
    "selling_stores = reference_test.groupby(['Store Name', 'City', 'total_ranking', 'sales_pred']).agg({'sales_pred':'size'})\n",
    "\n",
    "selling_stores = selling_stores.rename(columns={'sales_pred':'count'}).reset_index()\n",
    "\n",
    "selling_stores['total_ranking'] = selling_stores['total_ranking'].astype(int)\n",
    "\n",
    "# filter for mezcal sales prediction possibilities\n",
    "max_stores = selling_stores[(selling_stores['sales_pred'] != 0) & (selling_stores['total_ranking'] == 66049)]\n",
    "\n",
    "max_stores2 = selling_stores[(selling_stores['sales_pred'] == 2) & (selling_stores['total_ranking'] > 1500 ) & (selling_stores['total_ranking'] < 66049 )]"
   ]
  },
  {
   "cell_type": "code",
   "execution_count": 131,
   "id": "bb374869",
   "metadata": {},
   "outputs": [],
   "source": [
    "zero_stores = pd.concat([possibilities['Store Name'], max_stores['Store Name']], ignore_index=True).reset_index()"
   ]
  },
  {
   "cell_type": "code",
   "execution_count": 134,
   "id": "c9fbec8d",
   "metadata": {},
   "outputs": [
    {
     "data": {
      "text/plain": [
       "32"
      ]
     },
     "execution_count": 134,
     "metadata": {},
     "output_type": "execute_result"
    }
   ],
   "source": [
    "zero_stores['Store Name'].nunique() - possibilities['Store Name'].nunique()"
   ]
  },
  {
   "cell_type": "markdown",
   "id": "3bf03645",
   "metadata": {},
   "source": [
    "- There are 32 additional '0' stores to approach from the worse model "
   ]
  },
  {
   "cell_type": "code",
   "execution_count": 135,
   "id": "1fd22f21",
   "metadata": {},
   "outputs": [],
   "source": [
    "one_stores = pd.concat([possibilities2['Store Name'], max_stores2['Store Name']], ignore_index=True).reset_index()"
   ]
  },
  {
   "cell_type": "code",
   "execution_count": 136,
   "id": "92845ac5",
   "metadata": {},
   "outputs": [
    {
     "data": {
      "text/plain": [
       "12"
      ]
     },
     "execution_count": 136,
     "metadata": {},
     "output_type": "execute_result"
    }
   ],
   "source": [
    "one_stores['Store Name'].nunique() - possibilities2['Store Name'].nunique()"
   ]
  },
  {
   "cell_type": "markdown",
   "id": "216a32b2",
   "metadata": {},
   "source": [
    "- And there are 12 additional stores to approach about expanding their mezcal variety"
   ]
  }
 ],
 "metadata": {
  "kernelspec": {
   "display_name": "Python 3 (ipykernel)",
   "language": "python",
   "name": "python3"
  },
  "language_info": {
   "codemirror_mode": {
    "name": "ipython",
    "version": 3
   },
   "file_extension": ".py",
   "mimetype": "text/x-python",
   "name": "python",
   "nbconvert_exporter": "python",
   "pygments_lexer": "ipython3",
   "version": "3.8.12"
  }
 },
 "nbformat": 4,
 "nbformat_minor": 5
}
